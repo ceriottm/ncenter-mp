{
 "cells": [
  {
   "cell_type": "code",
   "execution_count": 1,
   "id": "8b445d0e",
   "metadata": {},
   "outputs": [],
   "source": [
    "import matplotlib.pyplot as plt\n",
    "import os, sys\n",
    "from ase.io import read\n",
    "from ase.units import Hartree\n",
    "\n",
    "import time\n",
    "import rascal\n",
    "import json\n",
    "\n",
    "from ase.io import read, write\n",
    "from ase.visualize import view\n",
    "import numpy as np\n",
    "import sys\n"
   ]
  },
  {
   "cell_type": "code",
   "execution_count": 2,
   "id": "54d66bad",
   "metadata": {},
   "outputs": [],
   "source": [
    "from rascal.representations import SphericalExpansion, SphericalInvariants\n",
    "from rascal.utils import (get_radial_basis_covariance, get_radial_basis_pca, \n",
    "                          get_radial_basis_projections, get_optimal_radial_basis_hypers )\n",
    "from rascal.utils import radial_basis\n",
    "from rascal.utils import (WignerDReal, ClebschGordanReal, \n",
    "                          spherical_expansion_reshape, spherical_expansion_conjugate,\n",
    "                          lm_slice, real2complex_matrix, xyz_to_spherical, spherical_to_xyz)\n",
    "from rascal.utils.cg_utils import _rotation as rotation"
   ]
  },
  {
   "cell_type": "code",
   "execution_count": 3,
   "id": "af53206b",
   "metadata": {},
   "outputs": [],
   "source": [
    "from tqdm.notebook import tqdm\n",
    "class tqdm_reusable:\n",
    "    def __init__(self, *args, **kwargs):\n",
    "        self._args = args\n",
    "        self._kwargs = kwargs\n",
    "\n",
    "    def __iter__(self):\n",
    "        return tqdm(*self._args, **self._kwargs).__iter__()"
   ]
  },
  {
   "cell_type": "markdown",
   "id": "4eebde51",
   "metadata": {},
   "source": [
    "In general, an atomistic property of interest may be indexed by N atomic indices $y_{i i_2 \\ldots i_N}$ instead of just one. This calls for features that also have a similar behavior. Let's restrict to the case of two centers. An example of such a property is the Hamiltonian in the AO basis \n",
    "#### tilde indices for orbitals (don't confuse with nlm used for projection basis of features)\n",
    "$\\newcommand{\\Hhat}{\\hat{H}}$\n",
    "$\\newcommand{\\te}{\\tilde{a}}$\n",
    "$\\newcommand{\\tn}{\\tilde{n}}$\n",
    "$\\newcommand{\\tl}{\\tilde{l}}$\n",
    "$\\newcommand{\\tm}{\\tilde{m}}$\n",
    "$\\newcommand{\\tlm}{\\tl\\tm}$\n",
    "$\\newcommand{\\tnlm}{\\tnl\\tm}$\n",
    "$\\newcommand{\\tnl}{\\tn\\tl}$\n",
    "$\\newcommand{\\tnnlammu}{\\tnl_1;\\tnl_2;\\lambda\\mu}$\n",
    "\n",
    "\n",
    "$$\n",
    "\\langle \\te_1 \\tnlm_1; \\te_2 \\tnlm_2 | \\Hhat | A_{ii_2} \\rangle\n",
    "$$\n",
    "represents the element the matrix correspoding to orbital $|\\tnlm_1 \\rangle$ centered on atom $i$ with species $|\\te_1\\rangle$ and the orbital $|\\tnlm_2 \\rangle$ centered on atom $i_2$ with species $|\\te_2\\rangle$. \n",
    "\n",
    "Following the CG iteration, we can transform to the coupled basis as \n",
    "$$\n",
    "\\langle \\te_1 \\tnl_1; \\te_2 \\tnl_2 | \\Hhat | A_{ii_2}; \\lambda \\mu \\rangle\n",
    "$$"
   ]
  },
  {
   "cell_type": "markdown",
   "id": "319d6047",
   "metadata": {},
   "source": [
    "In line with the SA-GPR framework in atomistic ML, we learn the corresponding rotationally equivariant elements with features obeying the same symmetry\n",
    "$$\n",
    "\\langle a_1 n_1 l_1; a_2 n_2; l_2 | \\overline{\\rho_{i i_2}^{\\otimes 1}; \\lambda\\mu} \\rangle = \n",
    "\\sum_{m_1 m_2} \n",
    "\\langle a_1 n_1 l_1 m_1 | g; \\mathbf{r}_{i i_2} \\rangle  \\langle a_2 n_2 l_2 m_2 | \\rho_i \\rangle\n",
    "\\langle l_1m_1; l_2 m_2 | \\lambda\\mu \\rangle\n",
    "$$\n",
    "\n",
    "This resembles closely the the NICE iteration, therefore we can easily increase the number of centers / correlation order.  [Nigam et al., 2021](http://arxiv.org/abs/2109.12083)]"
   ]
  },
  {
   "cell_type": "markdown",
   "id": "7c6bf38e",
   "metadata": {},
   "source": [
    "Let's try to learn the hamiltonian of water molecules using an effective core potential (ECP) for oxygen and a basis which corresponds to 1s, 2s orbitals on Hydrogen and 1s, 2s, 2p$_x$, 2p$_y$,2p$_z$ + three 3p orbitals on Oxygen  that are then Loewdin orthogonalized"
   ]
  },
  {
   "cell_type": "code",
   "execution_count": 4,
   "id": "e142f299",
   "metadata": {},
   "outputs": [],
   "source": [
    "import sys\n",
    "sys.path.append('/home/nigam/git/ncenter-reps/ncnice/')"
   ]
  },
  {
   "cell_type": "code",
   "execution_count": 5,
   "id": "96bc7934",
   "metadata": {},
   "outputs": [],
   "source": [
    "from hamiltonians import *\n",
    "from representations import * \n",
    "from models import * "
   ]
  },
  {
   "cell_type": "code",
   "execution_count": 10,
   "id": "997580bf",
   "metadata": {},
   "outputs": [],
   "source": [
    "spherical_expansion_hypers = {\n",
    "    \"interaction_cutoff\": 4,\n",
    "    \"max_radial\": 8,\n",
    "    \"max_angular\": 6,\n",
    "    \"gaussian_sigma_constant\": 0.3,\n",
    "    \"gaussian_sigma_type\": \"Constant\",\n",
    "    \"cutoff_smooth_width\": 0.5,\n",
    "    \"radial_basis\": \"GTO\",\n",
    "}\n",
    "CG = ClebschGordanReal(spherical_expansion_hypers[\"max_angular\"])\n",
    "abc = np.random.uniform(size=(3))*np.pi\n",
    "WD = WignerDReal(spherical_expansion_hypers[\"max_angular\"], *abc)"
   ]
  },
  {
   "cell_type": "code",
   "execution_count": null,
   "id": "e5996946",
   "metadata": {},
   "outputs": [],
   "source": []
  },
  {
   "cell_type": "markdown",
   "id": "ecedab96",
   "metadata": {},
   "source": [
    "### Load frames, orbitals, orthogonal fock matrices "
   ]
  },
  {
   "cell_type": "code",
   "execution_count": 11,
   "id": "8054d39b",
   "metadata": {},
   "outputs": [],
   "source": [
    "N=400\n",
    "frames = read('../data/water-example/water_coords_1000.xyz', ':'+str(N))\n",
    "for i in range(len(frames)):\n",
    "    frames[i].cell= [40,40,40]\n",
    "    frames[i].positions+=20\n",
    "    frames[i].pbc=False\n",
    "    \n",
    "orbs = json.loads(json.load(open('../data/water-example/water_orbs.json', \"r\")))\n",
    "fock = np.load('../data/water-example/water_fock.npy', allow_pickle=True)\n",
    "overlap =  np.load('../data/water-example/water_overlap.npy', allow_pickle=True)"
   ]
  },
  {
   "cell_type": "markdown",
   "id": "bfab8925",
   "metadata": {},
   "source": [
    "The matrices calculated by PySCF, for l=1 orbitals, are ordered in a way that m=1, -1, 0. These need to be reordered so they are organized like the rest of the orbitals with m= -l, -l+1, ..., l-1, l"
   ]
  },
  {
   "cell_type": "code",
   "execution_count": 12,
   "id": "dc4fbc0a",
   "metadata": {},
   "outputs": [],
   "source": [
    "for i in range(len(frames)):\n",
    "    fock[i] = fix_pyscf_l1(fock[i], frames[i], orbs)\n",
    "    overlap[i] = fix_pyscf_l1(overlap[i], frames[i], orbs)"
   ]
  },
  {
   "cell_type": "markdown",
   "id": "605b9604",
   "metadata": {},
   "source": [
    "The fock matrices can be projected from the AO basis to the Loewdin orthogonalized basis "
   ]
  },
  {
   "cell_type": "code",
   "execution_count": 13,
   "id": "bd26d970",
   "metadata": {},
   "outputs": [],
   "source": [
    "ortho_fock =[]\n",
    "for i in range(len(frames)):\n",
    "    ortho_fock.append(lowdin_orthogonalize(fock[i], overlap[i]))\n",
    "ortho_fock = np.asarray(ortho_fock)"
   ]
  },
  {
   "cell_type": "markdown",
   "id": "0c959d3d",
   "metadata": {},
   "source": [
    "### Decomposition of hamiltonian into different blocks"
   ]
  },
  {
   "cell_type": "code",
   "execution_count": 14,
   "id": "ce1e382f",
   "metadata": {},
   "outputs": [],
   "source": [
    "uncoupled_ortho_blocks = matrix_to_blocks(ortho_fock[213], frames[213], orbs)\n",
    "coupled_ortho_blocks = couple_blocks(uncoupled_ortho_blocks, CG)"
   ]
  },
  {
   "cell_type": "markdown",
   "id": "c6830e39",
   "metadata": {},
   "source": [
    "There are some additional symmetries when working with multiple centers, relating to permutation of labels which correlates to the symmetry of hamiltonians under exchange of identical atoms. See slides"
   ]
  },
  {
   "cell_type": "markdown",
   "id": "936a2ea4",
   "metadata": {},
   "source": [
    "### Verify the rotational behavior of predicted hamiltonian blocks"
   ]
  },
  {
   "cell_type": "markdown",
   "id": "94a228c8",
   "metadata": {},
   "source": [
    "Invariance of $\\lambda=0$ blocks"
   ]
  },
  {
   "cell_type": "code",
   "execution_count": 15,
   "id": "16c97cee",
   "metadata": {},
   "outputs": [
    {
     "data": {
      "text/plain": [
       "array([[0.]])"
      ]
     },
     "execution_count": 15,
     "metadata": {},
     "output_type": "execute_result"
    }
   ],
   "source": [
    "WD.rotate(coupled_ortho_blocks['diag'][(2,0,2,0)][0]) - coupled_ortho_blocks['diag'][(2,0,2,0)][0]"
   ]
  },
  {
   "cell_type": "code",
   "execution_count": 16,
   "id": "c4f34c96",
   "metadata": {},
   "outputs": [],
   "source": [
    "frame = frames[213]\n",
    "\n",
    "feats = do_full_features([frame], orbs, spherical_expansion_hypers, 2, CG, scale=1e3)"
   ]
  },
  {
   "cell_type": "markdown",
   "id": "d4da9e9a",
   "metadata": {},
   "source": [
    "### Fitting and predicting "
   ]
  },
  {
   "cell_type": "code",
   "execution_count": 17,
   "id": "69786816",
   "metadata": {},
   "outputs": [
    {
     "name": "stdout",
     "output_type": "stream",
     "text": [
      "Fitting model\n",
      "Fitting  diag:         (2, 0, 2, 0)\n",
      "Fitting  diag:         (2, 0, 3, 0)\n",
      "Fitting  diag:         (2, 0, 2, 1)\n",
      "Fitting  diag:         (2, 0, 3, 1)\n",
      "Fitting  diag:         (2, 0, 4, 1)\n",
      "Fitting  diag:         (3, 0, 3, 0)\n",
      "Fitting  diag:         (3, 0, 3, 1)\n",
      "Fitting  diag:         (3, 0, 4, 1)\n",
      "Fitting  diag:         (2, 1, 3, 0)\n",
      "Fitting  diag:         (2, 1, 2, 1)\n",
      "Fitting  diag:         (2, 1, 3, 1)\n",
      "Fitting  diag:         (2, 1, 4, 1)\n",
      "Fitting  diag:         (3, 1, 3, 1)\n",
      "Fitting  diag:         (3, 1, 4, 1)\n",
      "Fitting  diag:         (4, 1, 4, 1)\n",
      "Fitting  diag:         (6, 0, 6, 0)\n",
      "Fitting  diag:         (6, 0, 7, 0)\n",
      "Fitting  diag:         (7, 0, 7, 0)\n",
      "Fitting offd_p:         (6, 0, 6, 0)\n",
      "Fitting offd_p:         (6, 0, 7, 0)\n",
      "Fitting offd_p:         (7, 0, 7, 0)\n",
      "Fitting offd_m:         (6, 0, 6, 0)\n",
      "Fitting offd_m:         (6, 0, 7, 0)\n",
      "Fitting offd_m:         (7, 0, 7, 0)\n",
      "Fitting  hete:         (2, 0, 6, 0)\n",
      "Fitting  hete:         (2, 0, 7, 0)\n",
      "Fitting  hete:         (3, 0, 6, 0)\n",
      "Fitting  hete:         (3, 0, 7, 0)\n",
      "Fitting  hete:         (2, 1, 6, 0)\n",
      "Fitting  hete:         (2, 1, 7, 0)\n",
      "Fitting  hete:         (3, 1, 6, 0)\n",
      "Fitting  hete:         (3, 1, 7, 0)\n",
      "Fitting  hete:         (4, 1, 6, 0)\n",
      "Fitting  hete:         (4, 1, 7, 0)\n",
      "Predicting model\n",
      "RMSE Hamiltonian 2.4553358087513235e-13\n",
      "MAE Eigenvalues 4.5365563157891606e-14\n"
     ]
    }
   ],
   "source": [
    "print(\"Fitting model\")\n",
    "FR = FockRegression(orbs, alpha=1e-8, fit_intercept=\"auto\")\n",
    "FR.fit(feats, coupled_ortho_blocks)\n",
    "\n",
    "print(\"Predicting model\")\n",
    "pred_coupled = FR.predict(feats)\n",
    "pred = blocks_to_matrix(decouple_blocks(pred_coupled, CG), frame, orbs)\n",
    "\n",
    "print(\"RMSE Hamiltonian\", np.linalg.norm(ortho_fock[213]-pred)/np.sqrt(len(ortho_fock[213])))\n",
    "print(\"MAE Eigenvalues\", np.mean(np.abs(np.linalg.eigvalsh(ortho_fock[213])-np.linalg.eigvalsh(pred))))"
   ]
  },
  {
   "cell_type": "markdown",
   "id": "931ed441",
   "metadata": {},
   "source": [
    "### Predict a structure that is rotated and atoms permuted "
   ]
  },
  {
   "cell_type": "code",
   "execution_count": 18,
   "id": "cbd5af01",
   "metadata": {},
   "outputs": [
    {
     "name": "stdout",
     "output_type": "stream",
     "text": [
      "OH2\n"
     ]
    },
    {
     "data": {
      "text/plain": [
       "Atoms(symbols='OH2', pbc=False, cell=[[22.302288902481273, -15.757861764650926, -29.228371530354092], [-21.43802789237658, -33.7207907390102, 1.821875962179701], [-25.35781673953704, 14.649166001586472, -27.246707427908028]])"
      ]
     },
     "execution_count": 18,
     "metadata": {},
     "output_type": "execute_result"
    }
   ],
   "source": [
    "frame_rotperm = frame.copy()\n",
    "iperm = np.arange(len(frame.numbers), dtype=int)\n",
    "np.random.shuffle(iperm)\n",
    "frame_rotperm.numbers = frame_rotperm.numbers[iperm]\n",
    "frame_rotperm.positions = frame_rotperm.positions[iperm]\n",
    "print(frame_rotperm.symbols)\n",
    "\n",
    "abc = np.random.uniform(size=(3))*np.pi\n",
    "WD = WignerDReal(spherical_expansion_hypers[\"max_angular\"], *abc)\n",
    "WD.rotate_frame(frame_rotperm)"
   ]
  },
  {
   "cell_type": "code",
   "execution_count": 19,
   "id": "a8e90f61",
   "metadata": {},
   "outputs": [
    {
     "data": {
      "text/plain": [
       "<subprocess.Popen at 0x7f67b5d22250>"
      ]
     },
     "execution_count": 19,
     "metadata": {},
     "output_type": "execute_result"
    }
   ],
   "source": [
    "frame_list = [frame, frame_rotperm ]\n",
    "view(frame_list)"
   ]
  },
  {
   "cell_type": "code",
   "execution_count": 20,
   "id": "3c987ce3",
   "metadata": {},
   "outputs": [
    {
     "name": "stdout",
     "output_type": "stream",
     "text": [
      "RMSE Hamiltonian (pred) 0.5794303454672092\n",
      "MAE Eigenvalues (pred) 8.770761894538737e-16\n"
     ]
    }
   ],
   "source": [
    "feats_rotperm = do_full_features([frame_rotperm], orbs, spherical_expansion_hypers, 2, CG, scale=1e3)\n",
    "pred_rotperm = blocks_to_matrix(decouple_blocks(FR.predict(feats_rotperm), CG), frame, orbs)\n",
    "\n",
    "print(\"RMSE Hamiltonian (pred)\", np.linalg.norm(pred_rotperm-pred)/np.sqrt(len(ortho_fock[213])))\n",
    "print(\"MAE Eigenvalues (pred)\", np.mean(np.abs(np.linalg.eigvalsh(pred_rotperm)-np.linalg.eigvalsh(pred))))\n"
   ]
  },
  {
   "cell_type": "code",
   "execution_count": 21,
   "id": "2459b23c",
   "metadata": {},
   "outputs": [
    {
     "data": {
      "text/plain": [
       "Text(0.5, 0, 'k')"
      ]
     },
     "execution_count": 21,
     "metadata": {},
     "output_type": "execute_result"
    },
    {
     "data": {
      "image/png": "[encoded data removed]",
      "text/plain": [
       "<Figure size 432x288 with 1 Axes>"
      ]
     },
     "metadata": {
      "needs_background": "light"
     },
     "output_type": "display_data"
    }
   ],
   "source": [
    "plt.plot(np.linalg.eigvalsh(pred), 'b')\n",
    "plt.plot(np.linalg.eigvalsh(pred_rotperm), 'r.')\n",
    "plt.ylabel(r'Eigenvalue $\\epsilon_k$ (Hartree)')\n",
    "plt.xlabel('k')"
   ]
  },
  {
   "cell_type": "code",
   "execution_count": 22,
   "id": "98e8b58e",
   "metadata": {},
   "outputs": [
    {
     "data": {
      "image/png": "[encoded data removed]",
      "text/plain": [
       "<Figure size 648x216 with 3 Axes>"
      ]
     },
     "metadata": {
      "needs_background": "light"
     },
     "output_type": "display_data"
    }
   ],
   "source": [
    "mats = [pred*Hartree, pred_rotperm*Hartree]\n",
    "import matplotlib.gridspec as gridspec\n",
    "import matplotlib\n",
    "fig= plt.figure(figsize=(9,3))\n",
    "gs = gridspec.GridSpec(1, 4, width_ratios=(1,1,0.08, 1))\n",
    "gs.update(wspace=0.05)\n",
    "gs.update(hspace=0.01)\n",
    "# gs.update(width_ratios='1:1')\n",
    "ax1 = plt.subplot(gs[0, 0], )\n",
    "ax2 = plt.subplot(gs[0, 1])\n",
    "ax4 = plt.subplot(gs[0, 2])\n",
    "\n",
    "for i,ax in enumerate([ax1,ax2]):\n",
    "    im = ax.matshow(mats[i], norm=matplotlib.colors.SymLogNorm(linthresh=5, linscale=1), aspect=\"auto\")\n",
    "    ax.axis('off')\n",
    "\n",
    "c = fig.colorbar(im,fraction=0.026, pad=0.046,cax=ax4,orientation=\"vertical\")\n",
    "c.set_label(r'$\\hat{H}/ eV$', rotation=90, labelpad=-10, y=0.5)\n",
    "ax= c.ax\n",
    "# ax.xaxis.set_ticks_position('right')\n",
    "# ax.xaxis.set_label_position('right')\n",
    "# ax.text(1.2,2,r'$\\hat{H}(eV)$', fontsize=13, rotation=90)\n",
    "# c.ax.xaxis.set_ticks(minor_ticks, minor=True) \n",
    "c.set_ticks([[-100., -500., -10.,   0.,   10.,  100., 500.]])\n",
    "ax.xaxis.set_tick_params(pad=-2)"
   ]
  },
  {
   "cell_type": "markdown",
   "id": "068dad14",
   "metadata": {},
   "source": [
    "### Let's do this for a larger dataset "
   ]
  },
  {
   "cell_type": "code",
   "execution_count": 23,
   "id": "2db224a7",
   "metadata": {},
   "outputs": [],
   "source": [
    "coupled_ortho_blocks, slices = matrix_list_to_blocks(ortho_fock[:50], frames[:50], orbs, CG)"
   ]
  },
  {
   "cell_type": "code",
   "execution_count": 24,
   "id": "4a01643b",
   "metadata": {},
   "outputs": [],
   "source": [
    "train_slices = slice_fraction(coupled_ortho_blocks, tf=0.8)"
   ]
  },
  {
   "cell_type": "code",
   "execution_count": 25,
   "id": "2e1d1c22",
   "metadata": {},
   "outputs": [],
   "source": [
    "feats = do_full_features(frames[:50], orbs, spherical_expansion_hypers, 2, CG, scale=1e3)"
   ]
  },
  {
   "cell_type": "markdown",
   "id": "b37ab06c",
   "metadata": {},
   "source": [
    "### Run regression"
   ]
  },
  {
   "cell_type": "code",
   "execution_count": 26,
   "id": "347bc19b",
   "metadata": {},
   "outputs": [],
   "source": [
    "FR = FockRegression(orbs, alphas = np.geomspace(1e-8,1e8, 12))"
   ]
  },
  {
   "cell_type": "code",
   "execution_count": 27,
   "id": "4d2132dd",
   "metadata": {},
   "outputs": [
    {
     "data": {
      "application/vnd.jupyter.widget-view+json": {
       "model_id": "ab288760bdf44893946787a9da6b673c",
       "version_major": 2,
       "version_minor": 0
      },
      "text/plain": [
       "  0%|          | 0/18 [00:00<?, ?it/s]"
      ]
     },
     "metadata": {},
     "output_type": "display_data"
    },
    {
     "data": {
      "application/vnd.jupyter.widget-view+json": {
       "model_id": "a8b72b382bd44b869d6a278d82282d38",
       "version_major": 2,
       "version_minor": 0
      },
      "text/plain": [
       "  0%|          | 0/3 [00:00<?, ?it/s]"
      ]
     },
     "metadata": {},
     "output_type": "display_data"
    },
    {
     "data": {
      "application/vnd.jupyter.widget-view+json": {
       "model_id": "d1918e11c42549f39d30bdb6f581cd26",
       "version_major": 2,
       "version_minor": 0
      },
      "text/plain": [
       "  0%|          | 0/3 [00:00<?, ?it/s]"
      ]
     },
     "metadata": {},
     "output_type": "display_data"
    },
    {
     "data": {
      "application/vnd.jupyter.widget-view+json": {
       "model_id": "647a264b9cdf47f8a92bf307ee0b8975",
       "version_major": 2,
       "version_minor": 0
      },
      "text/plain": [
       "  0%|          | 0/10 [00:00<?, ?it/s]"
      ]
     },
     "metadata": {},
     "output_type": "display_data"
    }
   ],
   "source": [
    "FR.fit(feats, coupled_ortho_blocks, train_slices, progress=tqdm)"
   ]
  },
  {
   "cell_type": "code",
   "execution_count": 28,
   "id": "f2748597",
   "metadata": {},
   "outputs": [
    {
     "data": {
      "application/vnd.jupyter.widget-view+json": {
       "model_id": "1f2e459512fc439ea59fa911a06eb960",
       "version_major": 2,
       "version_minor": 0
      },
      "text/plain": [
       "  0%|          | 0/18 [00:00<?, ?it/s]"
      ]
     },
     "metadata": {},
     "output_type": "display_data"
    },
    {
     "data": {
      "application/vnd.jupyter.widget-view+json": {
       "model_id": "e275b5e7df724f3995962e58e6037c14",
       "version_major": 2,
       "version_minor": 0
      },
      "text/plain": [
       "  0%|          | 0/3 [00:00<?, ?it/s]"
      ]
     },
     "metadata": {},
     "output_type": "display_data"
    },
    {
     "data": {
      "application/vnd.jupyter.widget-view+json": {
       "model_id": "e7dfc9f8a5444446b80bf075e8f0bf5e",
       "version_major": 2,
       "version_minor": 0
      },
      "text/plain": [
       "  0%|          | 0/3 [00:00<?, ?it/s]"
      ]
     },
     "metadata": {},
     "output_type": "display_data"
    },
    {
     "data": {
      "application/vnd.jupyter.widget-view+json": {
       "model_id": "c7b74f7fcd1f4bdea3ba5e9487cb4a8f",
       "version_major": 2,
       "version_minor": 0
      },
      "text/plain": [
       "  0%|          | 0/10 [00:00<?, ?it/s]"
      ]
     },
     "metadata": {},
     "output_type": "display_data"
    }
   ],
   "source": [
    "pred_blocks = FR.predict(feats, progress=tqdm)\n",
    "pred_matrix = blocks_to_matrix_list(pred_blocks, frames, slices, orbs, CG)"
   ]
  },
  {
   "cell_type": "markdown",
   "id": "3bfd5dab",
   "metadata": {},
   "source": [
    "##### pred_matrix is a list of all predictions. Remember we trained on the first 40 structures! "
   ]
  },
  {
   "cell_type": "markdown",
   "id": "544bcfa9",
   "metadata": {},
   "source": [
    "### Post diagnostics "
   ]
  },
  {
   "cell_type": "markdown",
   "id": "d953ad5d",
   "metadata": {},
   "source": [
    "How does the eigenvalue spectum compare? What's the error on the HOMO-LUMO gaps, which blocks do better than others? "
   ]
  },
  {
   "cell_type": "code",
   "execution_count": null,
   "id": "5f3fc5f0",
   "metadata": {},
   "outputs": [],
   "source": []
  }
 ],
 "metadata": {
  "kernelspec": {
   "display_name": "Python 3 (ipykernel)",
   "language": "python",
   "name": "python3"
  },
  "language_info": {
   "codemirror_mode": {
    "name": "ipython",
    "version": 3
   },
   "file_extension": ".py",
   "mimetype": "text/x-python",
   "name": "python",
   "nbconvert_exporter": "python",
   "pygments_lexer": "ipython3",
   "version": "3.8.11"
  }
 },
 "nbformat": 4,
 "nbformat_minor": 5
}
