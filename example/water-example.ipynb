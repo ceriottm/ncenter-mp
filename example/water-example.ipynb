{
 "cells": [
  {
   "cell_type": "code",
   "execution_count": 1,
   "metadata": {},
   "outputs": [],
   "source": [
    "import matplotlib.pyplot as plt\n",
    "import os, sys\n",
    "from ase.io import read\n",
    "from ase.units import Hartree\n",
    "\n",
    "import time\n",
    "import rascal\n",
    "import json\n",
    "\n",
    "from ase.io import read, write\n",
    "from ase.visualize import view\n",
    "import numpy as np\n",
    "import sys\n"
   ]
  },
  {
   "cell_type": "code",
   "execution_count": 2,
   "metadata": {},
   "outputs": [],
   "source": [
    "from rascal.representations import SphericalExpansion, SphericalInvariants\n",
    "from rascal.utils import (get_radial_basis_covariance, get_radial_basis_pca, \n",
    "                          get_radial_basis_projections, get_optimal_radial_basis_hypers )\n",
    "from rascal.utils import radial_basis\n",
    "from rascal.utils import (WignerDReal, ClebschGordanReal, \n",
    "                          spherical_expansion_reshape, spherical_expansion_conjugate,\n",
    "                          lm_slice, real2complex_matrix, xyz_to_spherical, spherical_to_xyz)\n",
    "from rascal.utils.cg_utils import _rotation as rotation"
   ]
  },
  {
   "cell_type": "code",
   "execution_count": 3,
   "metadata": {},
   "outputs": [],
   "source": [
    "from tqdm.notebook import tqdm\n",
    "class tqdm_reusable:\n",
    "    def __init__(self, *args, **kwargs):\n",
    "        self._args = args\n",
    "        self._kwargs = kwargs\n",
    "\n",
    "    def __iter__(self):\n",
    "        return tqdm(*self._args, **self._kwargs).__iter__()"
   ]
  },
  {
   "cell_type": "markdown",
   "metadata": {},
   "source": [
    "In general, an atomistic property of interest may be indexed by N atomic indices $y_{i i_2 \\ldots i_N}$ instead of just one. This calls for features that also have a similar behavior. Let's restrict to the case of two centers. An example of such a property is the Hamiltonian in the AO basis \n",
    "#### tilde indices for orbitals (don't confuse with nlm used for projection basis of features)\n",
    "$\\newcommand{\\Hhat}{\\hat{H}}$\n",
    "$\\newcommand{\\te}{\\tilde{a}}$\n",
    "$\\newcommand{\\tn}{\\tilde{n}}$\n",
    "$\\newcommand{\\tl}{\\tilde{l}}$\n",
    "$\\newcommand{\\tm}{\\tilde{m}}$\n",
    "$\\newcommand{\\tlm}{\\tl\\tm}$\n",
    "$\\newcommand{\\tnlm}{\\tnl\\tm}$\n",
    "$\\newcommand{\\tnl}{\\tn\\tl}$\n",
    "$\\newcommand{\\tnnlammu}{\\tnl_1;\\tnl_2;\\lambda\\mu}$\n",
    "\n",
    "\n",
    "$$\n",
    "\\langle \\te_1 \\tnlm_1; \\te_2 \\tnlm_2 | \\Hhat | A_{ii_2} \\rangle\n",
    "$$\n",
    "represents the element the matrix correspoding to orbital $|\\tnlm_1 \\rangle$ centered on atom $i$ with species $|\\te_1\\rangle$ and the orbital $|\\tnlm_2 \\rangle$ centered on atom $i_2$ with species $|\\te_2\\rangle$. \n",
    "\n",
    "Following the CG iteration, we can transform to the coupled basis as \n",
    "$$\n",
    "\\langle \\te_1 \\tnl_1; \\te_2 \\tnl_2 | \\Hhat | A_{ii_2}; \\lambda \\mu \\rangle\n",
    "$$"
   ]
  },
  {
   "cell_type": "markdown",
   "metadata": {},
   "source": [
    "In line with the SA-GPR framework in atomistic ML, we learn the corresponding rotationally equivariant elements with features obeying the same symmetry\n",
    "$$\n",
    "\\langle a_1 n_1 l_1; a_2 n_2; l_2 | \\overline{\\rho_{i i_2}^{\\otimes 1}; \\lambda\\mu} \\rangle = \n",
    "\\sum_{m_1 m_2} \n",
    "\\langle a_1 n_1 l_1 m_1 | g; \\mathbf{r}_{i i_2} \\rangle  \\langle a_2 n_2 l_2 m_2 | \\rho_i \\rangle\n",
    "\\langle l_1m_1; l_2 m_2 | \\lambda\\mu \\rangle\n",
    "$$\n",
    "\n",
    "This resembles closely the the NICE iteration, therefore we can easily increase the number of centers / correlation order.  [Nigam et al., 2021](http://arxiv.org/abs/2109.12083)]"
   ]
  },
  {
   "cell_type": "markdown",
   "metadata": {},
   "source": [
    "Let's try to learn the hamiltonian of water molecules using an effective core potential (ECP) for oxygen and a basis which corresponds to 1s, 2s orbitals on Hydrogen and 1s, 2s, 2p$_x$, 2p$_y$,2p$_z$ + three 3p orbitals on Oxygen  that are then Loewdin orthogonalized"
   ]
  },
  {
   "cell_type": "code",
   "execution_count": 4,
   "metadata": {},
   "outputs": [],
   "source": [
    "import sys\n",
    "sys.path.insert(0,'/Users/jigyasa/scratch/ncenter-reps/')\n",
    "# sys.path.insert(0,'/home/nigam/git/ncenter-reps/')"
   ]
  },
  {
   "cell_type": "code",
   "execution_count": 5,
   "metadata": {},
   "outputs": [],
   "source": [
    "from ncnice import * "
   ]
  },
  {
   "cell_type": "code",
   "execution_count": 6,
   "metadata": {},
   "outputs": [],
   "source": [
    "spherical_expansion_hypers = {\n",
    "    \"interaction_cutoff\": 4,\n",
    "    \"max_radial\": 8,\n",
    "    \"max_angular\": 6,\n",
    "    \"gaussian_sigma_constant\": 0.3,\n",
    "    \"gaussian_sigma_type\": \"Constant\",\n",
    "    \"cutoff_smooth_width\": 0.5,\n",
    "    \"radial_basis\": \"GTO\",\n",
    "}\n",
    "CG = ClebschGordanReal(spherical_expansion_hypers[\"max_angular\"])\n",
    "abc = np.random.uniform(size=(3))*np.pi\n",
    "WD = WignerDReal(spherical_expansion_hypers[\"max_angular\"], *abc)"
   ]
  },
  {
   "cell_type": "markdown",
   "metadata": {},
   "source": [
    "### Load frames, orbitals, orthogonal fock matrices "
   ]
  },
  {
   "cell_type": "code",
   "execution_count": 7,
   "metadata": {},
   "outputs": [],
   "source": [
    "N=50\n",
    "frames = read('../data/water-example/water_coords_1000.xyz', ':'+str(N))\n",
    "for i in range(len(frames)):\n",
    "    frames[i].cell= [40,40,40]\n",
    "    frames[i].positions+=20\n",
    "    frames[i].pbc=False\n",
    "    \n",
    "orbs = json.loads(json.load(open('../data/water-example/water_orbs.json', \"r\")))\n",
    "orbs_def2 = json.loads(json.load(open('../data/water-example/orbs_def2_water.json', \"r\")))\n",
    "fock_def2 = np.load('../data/water-example/water_fock.npy', allow_pickle=True)\n",
    "overlap_def2 =  np.load('../data/water-example/water_overlap.npy', allow_pickle=True)"
   ]
  },
  {
   "cell_type": "markdown",
   "metadata": {},
   "source": [
    "The matrices calculated by PySCF, for l=1 orbitals, are ordered in a way that m=1, -1, 0. These need to be reordered so they are organized like the rest of the orbitals with m= -l, -l+1, ..., l-1, l"
   ]
  },
  {
   "cell_type": "code",
   "execution_count": 8,
   "metadata": {},
   "outputs": [],
   "source": [
    "for i in range(len(frames)):\n",
    "    fock_def2[i] = fix_pyscf_l1(fock_def2[i], frames[i], orbs_def2)\n",
    "    overlap_def2[i] = fix_pyscf_l1(overlap_def2[i], frames[i], orbs_def2)"
   ]
  },
  {
   "cell_type": "markdown",
   "metadata": {},
   "source": [
    "The fock matrices can be projected from the AO basis to the Loewdin orthogonalized basis "
   ]
  },
  {
   "cell_type": "code",
   "execution_count": 9,
   "metadata": {},
   "outputs": [],
   "source": [
    "ortho_fock_def2 =[]\n",
    "for i in range(len(frames)):\n",
    "    ortho_fock_def2.append(lowdin_orthogonalize(fock_def2[i], overlap_def2[i]))\n",
    "ortho_fock_def2 = np.asarray(ortho_fock_def2)"
   ]
  },
  {
   "cell_type": "code",
   "execution_count": 10,
   "metadata": {},
   "outputs": [],
   "source": [
    "ortho_fock_saph =  np.load('../data/water-example/water_saph_orthogonal.npy', allow_pickle=True)"
   ]
  },
  {
   "cell_type": "markdown",
   "metadata": {},
   "source": [
    "From hereon, we work explicitly with the orthogonalized **SAPH**. You can experiment with the matrices in the def2-SVP basis by working with corresponding orbitals (orbs_def2). Remember to set lmax=4 for this case when computing the feature"
   ]
  },
  {
   "cell_type": "markdown",
   "metadata": {},
   "source": [
    "### Decomposition of hamiltonian into different blocks"
   ]
  },
  {
   "cell_type": "code",
   "execution_count": 11,
   "metadata": {},
   "outputs": [],
   "source": [
    "uncoupled_ortho_blocks = matrix_to_blocks(ortho_fock_saph[21], frames[21], orbs)\n",
    "coupled_ortho_blocks = couple_blocks(uncoupled_ortho_blocks, CG)"
   ]
  },
  {
   "cell_type": "markdown",
   "metadata": {},
   "source": [
    "There are some additional symmetries when working with multiple centers, relating to permutation of labels which correlates to the symmetry of hamiltonians under exchange of identical atoms. See slides"
   ]
  },
  {
   "cell_type": "markdown",
   "metadata": {},
   "source": [
    "### Verify the rotational behavior of predicted hamiltonian blocks"
   ]
  },
  {
   "cell_type": "markdown",
   "metadata": {},
   "source": [
    "Invariance of $\\lambda=0$ blocks"
   ]
  },
  {
   "cell_type": "code",
   "execution_count": 12,
   "metadata": {},
   "outputs": [
    {
     "data": {
      "text/plain": [
       "array([[0.]])"
      ]
     },
     "execution_count": 12,
     "metadata": {},
     "output_type": "execute_result"
    }
   ],
   "source": [
    "WD.rotate(coupled_ortho_blocks['diag'][(2,0,2,0)][0]) - coupled_ortho_blocks['diag'][(2,0,2,0)][0]"
   ]
  },
  {
   "cell_type": "code",
   "execution_count": 13,
   "metadata": {},
   "outputs": [],
   "source": [
    "frame = frames[21]\n",
    "\n",
    "feats = compute_hamiltonian_representations([frame], orbs, spherical_expansion_hypers, lmax=2, nu=1, cg=CG, scale=1e3)"
   ]
  },
  {
   "cell_type": "markdown",
   "metadata": {},
   "source": [
    "### Fitting and predicting "
   ]
  },
  {
   "cell_type": "code",
   "execution_count": 14,
   "metadata": {
    "scrolled": true
   },
   "outputs": [
    {
     "name": "stdout",
     "output_type": "stream",
     "text": [
      "Fitting model\n",
      "Fitting  diag:         (2, 0, 2, 0)\n",
      "diag (2, 0, 2, 0) ('O', 0, 1) 0 0.8074352492243758\n",
      "Fitting  diag:         (2, 0, 2, 1)\n",
      "diag (2, 0, 2, 1) ('O', 1, 1) 1 0.1539678132921088\n",
      "Fitting  diag:         (2, 1, 2, 1)\n",
      "diag (2, 1, 2, 1) ('O', 0, 1) 0 0.64641251695997\n",
      "diag (2, 1, 2, 1) ('O', 2, 1) 2 0.2115781353666423\n",
      "Fitting  diag:         (3, 0, 3, 0)\n",
      "diag (3, 0, 3, 0) ('H', 0, 1) 0 0.5777557839931945\n",
      "Fitting offd_p:         (3, 0, 3, 0)\n",
      "offd_p (3, 0, 3, 0) ('H', 0, 1) 0 0.22946907720017526\n",
      "Fitting offd_m:         (3, 0, 3, 0)\n",
      "Fitting  hete:         (2, 0, 3, 0)\n",
      "hete (2, 0, 3, 0) ('O', 'H', 0, 1) 0 0.6567904056965445\n",
      "Fitting  hete:         (2, 1, 3, 0)\n",
      "hete (2, 1, 3, 0) ('O', 'H', 1, 1) 1 0.5890536654609094\n",
      "Predicting model\n",
      "RMSE Hamiltonian 0.13393825710636556\n",
      "MAE Eigenvalues 0.02554303901101532\n"
     ]
    }
   ],
   "source": [
    "print(\"Fitting model\")\n",
    "FR = FockRegression(orbs, alpha=1e-8, fit_intercept=\"auto\")\n",
    "FR.fit(feats, coupled_ortho_blocks)\n",
    "\n",
    "print(\"Predicting model\")\n",
    "pred_coupled = FR.predict(feats)\n",
    "pred = blocks_to_matrix(decouple_blocks(pred_coupled, CG), frame, orbs)\n",
    "\n",
    "print(\"RMSE Hamiltonian\", np.linalg.norm(ortho_fock_saph[23]-pred)/np.sqrt(len(ortho_fock_saph[21])))\n",
    "print(\"MAE Eigenvalues\", np.mean(np.abs(np.linalg.eigvalsh(ortho_fock_saph[21])-np.linalg.eigvalsh(pred))))"
   ]
  },
  {
   "cell_type": "markdown",
   "metadata": {},
   "source": [
    "### Predict a structure that is rotated and atoms permuted "
   ]
  },
  {
   "cell_type": "code",
   "execution_count": 15,
   "metadata": {},
   "outputs": [
    {
     "name": "stdout",
     "output_type": "stream",
     "text": [
      "H2O\n"
     ]
    },
    {
     "data": {
      "text/plain": [
       "Atoms(symbols='H2O', pbc=False, cell=[[-6.735174437201676, 31.632474526770757, -23.537714005690194], [-39.24745437227104, -7.666663118130481, 0.9271471995321323], [-3.778194092019028, 23.250996364592574, 32.328260353083266]])"
      ]
     },
     "execution_count": 15,
     "metadata": {},
     "output_type": "execute_result"
    }
   ],
   "source": [
    "frame_rotperm = frame.copy()\n",
    "iperm = np.arange(len(frame.numbers), dtype=int)\n",
    "np.random.shuffle(iperm)\n",
    "frame_rotperm.numbers = frame_rotperm.numbers[iperm]\n",
    "frame_rotperm.positions = frame_rotperm.positions[iperm]\n",
    "print(frame_rotperm.symbols)\n",
    "\n",
    "abc = np.random.uniform(size=(3))*np.pi\n",
    "WD = WignerDReal(spherical_expansion_hypers[\"max_angular\"], *abc)\n",
    "WD.rotate_frame(frame_rotperm)"
   ]
  },
  {
   "cell_type": "code",
   "execution_count": 16,
   "metadata": {},
   "outputs": [],
   "source": [
    "frame_list = [frame, frame_rotperm ]\n",
    "# view(frame_list) #visualize actual and rotated-permuted structure"
   ]
  },
  {
   "cell_type": "code",
   "execution_count": 17,
   "metadata": {},
   "outputs": [
    {
     "name": "stdout",
     "output_type": "stream",
     "text": [
      "RMSE Hamiltonian (pred) 0.5141336109420714\n",
      "MAE Eigenvalues (pred) 3.469446951953614e-16\n"
     ]
    }
   ],
   "source": [
    "feats_rotperm = compute_hamiltonian_representations([frame_rotperm], orbs, spherical_expansion_hypers, lmax=2, nu=1, cg=CG, scale=1e3)\n",
    "pred_rotperm = blocks_to_matrix(decouple_blocks(FR.predict(feats_rotperm), CG), frame, orbs)\n",
    "\n",
    "print(\"RMSE Hamiltonian (pred)\", np.linalg.norm(pred_rotperm-pred)/np.sqrt(len(ortho_fock_saph[213])))\n",
    "print(\"MAE Eigenvalues (pred)\", np.mean(np.abs(np.linalg.eigvalsh(pred_rotperm)-np.linalg.eigvalsh(pred))))\n"
   ]
  },
  {
   "cell_type": "code",
   "execution_count": 18,
   "metadata": {},
   "outputs": [
    {
     "data": {
      "text/plain": [
       "Text(0.5, 0, 'k')"
      ]
     },
     "execution_count": 18,
     "metadata": {},
     "output_type": "execute_result"
    },
    {
     "data": {
      "image/png": "[encoded data removed]",
      "text/plain": [
       "<Figure size 432x288 with 1 Axes>"
      ]
     },
     "metadata": {
      "needs_background": "light"
     },
     "output_type": "display_data"
    }
   ],
   "source": [
    "plt.plot(np.linalg.eigvalsh(pred), 'b')\n",
    "plt.plot(np.linalg.eigvalsh(pred_rotperm), 'r.')\n",
    "plt.ylabel(r'Eigenvalue $\\epsilon_k$ (Hartree)')\n",
    "plt.xlabel('k')"
   ]
  },
  {
   "cell_type": "code",
   "execution_count": 19,
   "metadata": {},
   "outputs": [
    {
     "data": {
      "image/png": "[encoded data removed]",
      "text/plain": [
       "<Figure size 648x216 with 3 Axes>"
      ]
     },
     "metadata": {
      "needs_background": "light"
     },
     "output_type": "display_data"
    }
   ],
   "source": [
    "mats = [pred*Hartree, pred_rotperm*Hartree]\n",
    "import matplotlib.gridspec as gridspec\n",
    "import matplotlib\n",
    "fig= plt.figure(figsize=(9,3))\n",
    "gs = gridspec.GridSpec(1, 4, width_ratios=(1,1,0.08, 1))\n",
    "gs.update(wspace=0.05)\n",
    "gs.update(hspace=0.01)\n",
    "# gs.update(width_ratios='1:1')\n",
    "ax1 = plt.subplot(gs[0, 0], )\n",
    "ax2 = plt.subplot(gs[0, 1])\n",
    "ax4 = plt.subplot(gs[0, 2])\n",
    "\n",
    "for i,ax in enumerate([ax1,ax2]):\n",
    "    im = ax.matshow(mats[i], norm=matplotlib.colors.SymLogNorm(linthresh=5, linscale=1), aspect=\"auto\")\n",
    "    ax.axis('off')\n",
    "\n",
    "c = fig.colorbar(im,fraction=0.026, pad=0.046,cax=ax4,orientation=\"vertical\")\n",
    "c.set_label(r'$\\hat{H}/ eV$', rotation=90, labelpad=-10, y=0.5)\n",
    "ax= c.ax\n",
    "# ax.xaxis.set_ticks_position('right')\n",
    "# ax.xaxis.set_label_position('right')\n",
    "# ax.text(1.2,2,r'$\\hat{H}(eV)$', fontsize=13, rotation=90)\n",
    "# c.ax.xaxis.set_ticks(minor_ticks, minor=True) \n",
    "c.set_ticks([[-100., -500., -10.,   0.,   10.,  100., 500.]])\n",
    "ax.xaxis.set_tick_params(pad=-2)"
   ]
  },
  {
   "cell_type": "markdown",
   "metadata": {},
   "source": [
    "### Let's do this for a larger dataset "
   ]
  },
  {
   "cell_type": "code",
   "execution_count": 20,
   "metadata": {},
   "outputs": [],
   "source": [
    "#function to define the training blocks\n",
    "def slice_fraction(blocks, tf = 0.5):\n",
    "    train_slices = {}\n",
    "    for k in blocks.keys():\n",
    "        train_slices[k] = {}\n",
    "        for orb in blocks[k]:\n",
    "            if list(blocks[k][orb].keys()):\n",
    "#                 print(k, orb, list(blocks[k][orb].keys()))\n",
    "                L0 = list(blocks[k][orb].keys())[0]\n",
    "                train_slices[k][orb] = slice(0,int(len(blocks[k][orb][L0])*tf))\n",
    "            else: \n",
    "                train_slices[k][orb] = None\n",
    "                \n",
    "    return train_slices"
   ]
  },
  {
   "cell_type": "code",
   "execution_count": 21,
   "metadata": {},
   "outputs": [],
   "source": [
    "coupled_ortho_blocks, slices = matrix_list_to_blocks(ortho_fock_saph[:50], frames[:50], orbs, CG)"
   ]
  },
  {
   "cell_type": "code",
   "execution_count": 22,
   "metadata": {},
   "outputs": [],
   "source": [
    "train_slices = slice_fraction(coupled_ortho_blocks, tf=0.8)"
   ]
  },
  {
   "cell_type": "code",
   "execution_count": 23,
   "metadata": {},
   "outputs": [],
   "source": [
    "feats = compute_hamiltonian_representations(frames[:50], orbs, spherical_expansion_hypers, lmax=2, nu=1, cg=CG, scale=1e3)"
   ]
  },
  {
   "cell_type": "code",
   "execution_count": 24,
   "metadata": {
    "scrolled": true
   },
   "outputs": [
    {
     "name": "stdout",
     "output_type": "stream",
     "text": [
      "('H', 0, 1)\n"
     ]
    },
    {
     "data": {
      "application/vnd.jupyter.widget-view+json": {
       "model_id": "44f3dac25b9a4177bf4a1b6b6c3a96d8",
       "version_major": 2,
       "version_minor": 0
      },
      "text/plain": [
       "features:   0%|          | 0/50 [00:00<?, ?it/s]"
      ]
     },
     "metadata": {},
     "output_type": "display_data"
    },
    {
     "data": {
      "application/vnd.jupyter.widget-view+json": {
       "model_id": "6d0e257f827f44748d423f9aa7eed582",
       "version_major": 2,
       "version_minor": 0
      },
      "text/plain": [
       "features:   0%|          | 0/50 [00:00<?, ?it/s]"
      ]
     },
     "metadata": {},
     "output_type": "display_data"
    },
    {
     "name": "stdout",
     "output_type": "stream",
     "text": [
      "('O', 0, 1)\n"
     ]
    },
    {
     "data": {
      "application/vnd.jupyter.widget-view+json": {
       "model_id": "2222b170807840faaf4805faee8630ee",
       "version_major": 2,
       "version_minor": 0
      },
      "text/plain": [
       "features:   0%|          | 0/50 [00:00<?, ?it/s]"
      ]
     },
     "metadata": {},
     "output_type": "display_data"
    },
    {
     "data": {
      "application/vnd.jupyter.widget-view+json": {
       "model_id": "1016c1296c9a4a3bb02332c31abcc44e",
       "version_major": 2,
       "version_minor": 0
      },
      "text/plain": [
       "features:   0%|          | 0/50 [00:00<?, ?it/s]"
      ]
     },
     "metadata": {},
     "output_type": "display_data"
    },
    {
     "name": "stdout",
     "output_type": "stream",
     "text": [
      "('O', 2, 1)\n"
     ]
    },
    {
     "data": {
      "application/vnd.jupyter.widget-view+json": {
       "model_id": "4f137b03e87041958bb70fed99053a7a",
       "version_major": 2,
       "version_minor": 0
      },
      "text/plain": [
       "features:   0%|          | 0/50 [00:00<?, ?it/s]"
      ]
     },
     "metadata": {},
     "output_type": "display_data"
    },
    {
     "data": {
      "application/vnd.jupyter.widget-view+json": {
       "model_id": "cc918309adf34ea983b9df25dd76c422",
       "version_major": 2,
       "version_minor": 0
      },
      "text/plain": [
       "features:   0%|          | 0/50 [00:00<?, ?it/s]"
      ]
     },
     "metadata": {},
     "output_type": "display_data"
    },
    {
     "name": "stdout",
     "output_type": "stream",
     "text": [
      "('O', 1, 1)\n"
     ]
    },
    {
     "data": {
      "application/vnd.jupyter.widget-view+json": {
       "model_id": "23e1bccd2f654e57b47682fae4ffbc24",
       "version_major": 2,
       "version_minor": 0
      },
      "text/plain": [
       "features:   0%|          | 0/50 [00:00<?, ?it/s]"
      ]
     },
     "metadata": {},
     "output_type": "display_data"
    },
    {
     "data": {
      "application/vnd.jupyter.widget-view+json": {
       "model_id": "ff1ae4534f0e47c98b37829d2c813c0e",
       "version_major": 2,
       "version_minor": 0
      },
      "text/plain": [
       "features:   0%|          | 0/50 [00:00<?, ?it/s]"
      ]
     },
     "metadata": {},
     "output_type": "display_data"
    }
   ],
   "source": [
    "# substitute nu=2 features for the \"diagonal\" block\n",
    "blocks = uncoupled_ortho_blocks\n",
    "blocks_c = coupled_ortho_blocks \n",
    "tblock = 'diag'\n",
    "sel_type  = list(blocks[tblock].keys())\n",
    "fblock=[]\n",
    "for i in range(len(sel_type)):\n",
    "    kblock = sel_type[i]\n",
    "    lblock = list(blocks_c['diag'][sel_type[i]].keys())\n",
    "    for l in lblock:\n",
    "        fblock.append(block_to_feat_index(tblock, kblock, l, orbs))\n",
    "\n",
    "fblock = list(set(fblock))\n",
    "for j in fblock:\n",
    "    print(j)\n",
    "    feats['diag'][j] = compute_hamiltonian_representations(tqdm_reusable(frames, desc=\"features\"), orbs = orbs, hypers = spherical_expansion_hypers,lmax=2, nu=2, cg=CG, scale=1e3, select_feats=dict(block=j, type=tblock))[tblock][j]"
   ]
  },
  {
   "cell_type": "markdown",
   "metadata": {},
   "source": [
    "### Run regression"
   ]
  },
  {
   "cell_type": "code",
   "execution_count": 25,
   "metadata": {},
   "outputs": [],
   "source": [
    "FR = FockRegression(orbs, alphas = np.geomspace(1e-8,1e8, 12))"
   ]
  },
  {
   "cell_type": "code",
   "execution_count": 26,
   "metadata": {
    "scrolled": true
   },
   "outputs": [
    {
     "data": {
      "application/vnd.jupyter.widget-view+json": {
       "model_id": "93499cbfa7654a04ae6233ce7f4fa028",
       "version_major": 2,
       "version_minor": 0
      },
      "text/plain": [
       "  0%|          | 0/4 [00:00<?, ?it/s]"
      ]
     },
     "metadata": {},
     "output_type": "display_data"
    },
    {
     "name": "stdout",
     "output_type": "stream",
     "text": [
      "diag (2, 0, 2, 0) ('O', 0, 1) 0 5.417893290031105\n",
      "diag (2, 0, 2, 1) ('O', 1, 1) 1 0.9201424305378398\n",
      "diag (2, 1, 2, 1) ('O', 0, 1) 0 3.852430966839688\n",
      "diag (2, 1, 2, 1) ('O', 2, 1) 2 1.40818336048713\n",
      "diag (3, 0, 3, 0) ('H', 0, 1) 0 3.3084881777001813\n"
     ]
    },
    {
     "data": {
      "application/vnd.jupyter.widget-view+json": {
       "model_id": "eb05d91eba5c4f77a14c333bb0c1e9c2",
       "version_major": 2,
       "version_minor": 0
      },
      "text/plain": [
       "  0%|          | 0/1 [00:00<?, ?it/s]"
      ]
     },
     "metadata": {},
     "output_type": "display_data"
    },
    {
     "name": "stdout",
     "output_type": "stream",
     "text": [
      "offd_p (3, 0, 3, 0) ('H', 0, 1) 0 1.0836512991983627\n"
     ]
    },
    {
     "data": {
      "application/vnd.jupyter.widget-view+json": {
       "model_id": "6a82a65007c348d3b8ab66f6694d003a",
       "version_major": 2,
       "version_minor": 0
      },
      "text/plain": [
       "  0%|          | 0/1 [00:00<?, ?it/s]"
      ]
     },
     "metadata": {},
     "output_type": "display_data"
    },
    {
     "data": {
      "application/vnd.jupyter.widget-view+json": {
       "model_id": "56b76f511df84e06b1f261502c5d02ab",
       "version_major": 2,
       "version_minor": 0
      },
      "text/plain": [
       "  0%|          | 0/2 [00:00<?, ?it/s]"
      ]
     },
     "metadata": {},
     "output_type": "display_data"
    },
    {
     "name": "stdout",
     "output_type": "stream",
     "text": [
      "hete (2, 0, 3, 0) ('O', 'H', 0, 1) 0 3.8553466514604695\n",
      "hete (2, 1, 3, 0) ('O', 'H', 1, 1) 1 3.5096580046045047\n"
     ]
    }
   ],
   "source": [
    "FR.fit(feats, coupled_ortho_blocks, train_slices, progress=tqdm)"
   ]
  },
  {
   "cell_type": "code",
   "execution_count": 27,
   "metadata": {},
   "outputs": [
    {
     "data": {
      "application/vnd.jupyter.widget-view+json": {
       "model_id": "7011dd21ee2f4c5a9448d98144796a2e",
       "version_major": 2,
       "version_minor": 0
      },
      "text/plain": [
       "  0%|          | 0/4 [00:00<?, ?it/s]"
      ]
     },
     "metadata": {},
     "output_type": "display_data"
    },
    {
     "data": {
      "application/vnd.jupyter.widget-view+json": {
       "model_id": "d60044777f4041a59b7d407110040235",
       "version_major": 2,
       "version_minor": 0
      },
      "text/plain": [
       "  0%|          | 0/1 [00:00<?, ?it/s]"
      ]
     },
     "metadata": {},
     "output_type": "display_data"
    },
    {
     "data": {
      "application/vnd.jupyter.widget-view+json": {
       "model_id": "c724c4c4fb1d4801b2b0103df6d60944",
       "version_major": 2,
       "version_minor": 0
      },
      "text/plain": [
       "  0%|          | 0/1 [00:00<?, ?it/s]"
      ]
     },
     "metadata": {},
     "output_type": "display_data"
    },
    {
     "data": {
      "application/vnd.jupyter.widget-view+json": {
       "model_id": "379946ecf8d14a68b190689adadbdcfd",
       "version_major": 2,
       "version_minor": 0
      },
      "text/plain": [
       "  0%|          | 0/2 [00:00<?, ?it/s]"
      ]
     },
     "metadata": {},
     "output_type": "display_data"
    }
   ],
   "source": [
    "pred_blocks = FR.predict(feats, progress=tqdm)\n",
    "pred_matrix = blocks_to_matrix_list(pred_blocks, frames, slices, orbs, CG)"
   ]
  },
  {
   "cell_type": "markdown",
   "metadata": {
    "heading_collapsed": true
   },
   "source": [
    "##### pred_matrix is a list of all predictions. Remember we trained on the first 40 structures! "
   ]
  },
  {
   "cell_type": "markdown",
   "metadata": {},
   "source": [
    "### Post diagnostics "
   ]
  },
  {
   "cell_type": "markdown",
   "metadata": {
    "heading_collapsed": true
   },
   "source": [
    "#### Utilities to run post diagnostics"
   ]
  },
  {
   "cell_type": "code",
   "execution_count": 28,
   "metadata": {
    "hidden": true
   },
   "outputs": [],
   "source": [
    "def get_homo_lumo(frames, eva, peva, noffset=0, eV=False):\n",
    "    leva = []\n",
    "    npairs = []\n",
    "    homo = []\n",
    "    lumo = []\n",
    "    phomo = []\n",
    "    plumo = []\n",
    "    nat = []\n",
    "    phomo_gen = []\n",
    "    plumo_gen = []\n",
    "    for i,f in enumerate(frames[:]):\n",
    "        ev = eva[i]\n",
    "        pev = peva[i]\n",
    "#         print(pev.shape)\n",
    "#         leva.append(eva)\n",
    "        nel = 0\n",
    "        for z in f.numbers:\n",
    "            nel += z\n",
    "        nel = nel-noffset\n",
    "        #print(nel, noffset)\n",
    "        if (nel%2 !=0):\n",
    "            print (\"Radical alert!\")\n",
    "        nat.append(len(f.numbers))\n",
    "        npairs.append(nel//2)\n",
    "        homo.append(ev[nel//2-1])\n",
    "        lumo.append(ev[nel//2])\n",
    "        phomo.append(pev[nel//2-1])\n",
    "        plumo.append(pev[nel//2])\n",
    "    npairs = np.asarray(npairs, dtype=int)\n",
    "    homo = np.asarray(homo)\n",
    "    lumo = np.asarray(lumo)\n",
    "    phomo = np.asarray(phomo)\n",
    "    plumo = np.asarray(plumo)\n",
    "    pgap = plumo-phomo\n",
    "    gap = lumo-homo\n",
    "    if(eV==False):\n",
    "        return homo, lumo,gap, phomo, plumo, pgap\n",
    "    else:\n",
    "        return homo*Hartree, lumo*Hartree,gap*Hartree, phomo*Hartree, plumo*Hartree, pgap*Hartree\n",
    "\n",
    "\n",
    "def get_mae (x, y):\n",
    "#     return np.sum(np.abs(x-y))/len(x)\n",
    "    return np.mean(np.abs(x-y))\n",
    "\n",
    "def get_rmse(x, y):\n",
    "    return np.sqrt(np.mean((x-y)**2, axis = 1))\n",
    "\n",
    "def block_err(pred, frames, orbs, mycg, fock, itest):\n",
    "    lcstats = {}\n",
    "    blocks, slices = matrix_list_to_blocks(fock, frames, orbs, mycg)\n",
    "    lcstats['block_lc_mse'] ={k:[] for k in [\"diag\", \"hete\", \"offd_m\", \"offd_p\"]}\n",
    "    block_rmse_test_tf=[]\n",
    "    full_mse_test_tf=[]\n",
    "    lcstats['full_mse_test_tf'] = full_mse_test_tf\n",
    " #   for itf, tf in enumerate(trainfrac):\n",
    "    lcblocks, slices = matrix_list_to_blocks(pred, frames, orbs, mycg)\n",
    "\n",
    "    test_slices = get_block_idx(itest, slices)\n",
    "    print(\"Computing errors\")\n",
    "    block_mse_test = {}\n",
    "    block_rmse_test = {}\n",
    "    block_rmse_test_list = {}\n",
    "    for k in blocks.keys():\n",
    "        for b in blocks[k]:\n",
    "            for l in blocks[k][b]:\n",
    "                block_mse_test[(k,b,l)] = 0\n",
    "                block_rmse_test_list[(k,b,l)] = []\n",
    "                #  weighting factors to get the same sum as for the full Hamiltonian\n",
    "                na, la, nb, lb = b\n",
    "                if (nb==na and lb==la):\n",
    "                    fac = 1\n",
    "                else:\n",
    "                    fac = 2\n",
    "                if k in [\"offd_m\", \"offd_p\"]:\n",
    "                    fac*=1#0.5\n",
    "\n",
    "                for t in itest:\n",
    "                    if not b in slices[t][k]:\n",
    "                        block_rmse_test_list[(k,b,l)].append(0)\n",
    "                        continue\n",
    "                    block_rmse_test_list[(k,b,l)].append(np.sqrt(((blocks[k][b][l][slices[t][k][b]] - lcblocks[k][b][l][slices[t][k][b]]).flatten()**2).sum()))\n",
    "                    block_mse_test[(k,b,l)] += ((blocks[k][b][l][slices[t][k][b]] - lcblocks[k][b][l][slices[t][k][b]]).flatten()**2).sum()  / len(fock[t]) *fac\n",
    "                block_rmse_test[(k,b,l)] = np.sqrt(block_mse_test[(k,b,l)]/len(itest))\n",
    "    full_mse_test = 0\n",
    "    for t in itest:\n",
    "        full_mse_test += np.sum((fock[t] - pred[t])**2)/len(fock[t])\n",
    "    full_mse_test /= len(itest)\n",
    "    print(\"Full MSE test\", full_mse_test)\n",
    "    full_mse_test_tf.append(full_mse_test)\n",
    "    block_rmse_test_tf.append(block_rmse_test)\n",
    "    tot = { k:0 for k in [\"diag\", \"hete\", \"offd_m\", \"offd_p\"] }\n",
    "    for bb in block_rmse_test.keys():\n",
    "        tot[bb[0]] += block_rmse_test[bb]**2\n",
    "    print(\"Sum of block errors\", tot['diag']+tot['hete']+(tot['offd_p']+tot['offd_m']))\n",
    "    for k in [\"diag\", \"hete\", \"offd_m\", \"offd_p\"] :\n",
    "        lcstats['block_lc_mse'][k].append(tot[k])\n",
    "#         print(tot[k])\n",
    "    lcstats['full_mse_test_tf'] = full_mse_test_tf\n",
    "\n",
    "\n",
    "    return full_mse_test_tf, block_rmse_test_tf, lcstats\n",
    "\n",
    "def full_error(trainfrac, pred_list, fock, itest):\n",
    "    full_rmse_test_tf=[]\n",
    "    for itf, tf in enumerate(trainfrac):\n",
    "        pred = pred_list[itf]\n",
    "        full_mse_test = 0\n",
    "        for t in itest:\n",
    "            full_mse_test += np.sum((fock[t] - pred[t])**2)/len(fock[t])\n",
    "        full_mse_test /= len(itest)\n",
    "        print(tf, full_mse_test)\n",
    "        full_rmse_test_tf.append(np.sqrt(full_mse_test))\n",
    "    return np.asarray(full_rmse_test_tf)\n"
   ]
  },
  {
   "cell_type": "markdown",
   "metadata": {},
   "source": [
    "#### How does the eigenvalue spectum compare? What's the error on the HOMO-LUMO gaps, which blocks do better than others? "
   ]
  },
  {
   "cell_type": "code",
   "execution_count": 29,
   "metadata": {},
   "outputs": [
    {
     "name": "stdout",
     "output_type": "stream",
     "text": [
      "error on the Eigenvalue spectrum/eV 0.0019606271459226697\n"
     ]
    }
   ],
   "source": [
    "test_matrix = ortho_fock_saph[40:50]\n",
    "train_matrix = ortho_fock_saph[:40]\n",
    "eigenval_norm = np.asarray([ np.sqrt(np.mean((np.linalg.eigvalsh(pred_matrix[len(train_matrix)+j])-np.linalg.eigvalsh(ortho_fock_saph[len(train_matrix)+j].astype(float)))**2\n",
    "                                          )) for j in range(len(test_matrix))  ])\n",
    "eigenval_rmse = np.sqrt(np.sum(eigenval_norm**2)/len(test_matrix))\n",
    "\n",
    "print(\"error on the Eigenvalue spectrum/eV\", eigenval_rmse*Hartree)"
   ]
  },
  {
   "cell_type": "markdown",
   "metadata": {},
   "source": [
    "#### HOMO-LUMO gaps"
   ]
  },
  {
   "cell_type": "code",
   "execution_count": 30,
   "metadata": {},
   "outputs": [],
   "source": [
    "import matplotlib as mpl"
   ]
  },
  {
   "cell_type": "code",
   "execution_count": 31,
   "metadata": {},
   "outputs": [],
   "source": [
    "ref_eig = np.linalg.eigvalsh(ortho_fock_saph[40:50])\n",
    "pred_eig =  np.linalg.eigvalsh(pred_matrix[40:50])\n",
    "\n",
    "homo, lumo,gap, phomo, plumo, pgap  = get_homo_lumo(frames[40:50], ref_eig, pred_eig,noffset=2, eV=True)"
   ]
  },
  {
   "cell_type": "code",
   "execution_count": 32,
   "metadata": {},
   "outputs": [
    {
     "data": {
      "text/plain": [
       "Text(0, 0.5, '$\\\\delta$(HF)/eV')"
      ]
     },
     "execution_count": 32,
     "metadata": {},
     "output_type": "execute_result"
    },
    {
     "data": {
      "image/png": "[encoded data removed]",
      "text/plain": [
       "<Figure size 432x288 with 1 Axes>"
      ]
     },
     "metadata": {
      "needs_background": "light"
     },
     "output_type": "display_data"
    }
   ],
   "source": [
    "fig, ax = plt.subplots(1,1)\n",
    "ax.plot(pgap,  gap,'r.')\n",
    "ax.plot([min(gap),max(gap)],[min(gap),max(gap)],'k--')\n",
    "fmt = mpl.ticker.ScalarFormatter(); fmt.set_scientific(False)\n",
    "# ax.xaxis.set_major_formatter(fmt)\n",
    "# ax.xaxis.set_minor_formatter(fmt)\n",
    "ax.yaxis.set_major_formatter(fmt)\n",
    "ax.yaxis.set_minor_formatter(fmt)\n",
    "ax.ticklabel_format(useOffset=False)\n",
    "ax.set_xlabel(\"$\\delta$(predicted)/eV\")\n",
    "ax.set_ylabel(\"$\\delta$(HF)/eV\")"
   ]
  },
  {
   "cell_type": "markdown",
   "metadata": {},
   "source": [
    "Block wise errors in Ha"
   ]
  },
  {
   "cell_type": "code",
   "execution_count": 33,
   "metadata": {
    "scrolled": true
   },
   "outputs": [
    {
     "name": "stdout",
     "output_type": "stream",
     "text": [
      "Computing errors\n",
      "Full MSE test 1.0765344578954867e-08\n",
      "Sum of block errors 1.076534457895489e-08\n"
     ]
    }
   ],
   "source": [
    "full_mse, block_rmse, lcstats  = block_err(pred_matrix, frames[:50], orbs, CG, ortho_fock_saph[:50], list(range(40,50)) )"
   ]
  },
  {
   "cell_type": "code",
   "execution_count": 34,
   "metadata": {},
   "outputs": [
    {
     "data": {
      "text/plain": [
       "{'block_lc_mse': {'diag': [7.654803388829133e-09],\n",
       "  'hete': [2.609683903428468e-09],\n",
       "  'offd_m': [0],\n",
       "  'offd_p': [5.008572866972897e-10]},\n",
       " 'full_mse_test_tf': [1.0765344578954867e-08]}"
      ]
     },
     "execution_count": 34,
     "metadata": {},
     "output_type": "execute_result"
    }
   ],
   "source": [
    "lcstats"
   ]
  },
  {
   "cell_type": "code",
   "execution_count": null,
   "metadata": {},
   "outputs": [],
   "source": []
  }
 ],
 "metadata": {
  "kernelspec": {
   "display_name": "Python 3",
   "language": "python",
   "name": "python3"
  },
  "language_info": {
   "codemirror_mode": {
    "name": "ipython",
    "version": 3
   },
   "file_extension": ".py",
   "mimetype": "text/x-python",
   "name": "python",
   "nbconvert_exporter": "python",
   "pygments_lexer": "ipython3",
   "version": "3.7.3"
  },
  "toc": {
   "base_numbering": 1,
   "nav_menu": {},
   "number_sections": true,
   "sideBar": true,
   "skip_h1_title": false,
   "title_cell": "Table of Contents",
   "title_sidebar": "Contents",
   "toc_cell": false,
   "toc_position": {},
   "toc_section_display": true,
   "toc_window_display": false
  }
 },
 "nbformat": 4,
 "nbformat_minor": 5
}
