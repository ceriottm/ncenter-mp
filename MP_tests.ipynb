{
 "cells": [
  {
   "cell_type": "code",
   "execution_count": 1,
   "metadata": {},
   "outputs": [],
   "source": [
    "%load_ext autoreload\n",
    "%autoreload 2\n",
    "# import sys\n",
    "# sys.path.insert(0,'/home/nigam/librascal_cs/librascal/build/')"
   ]
  },
  {
   "cell_type": "code",
   "execution_count": 2,
   "metadata": {},
   "outputs": [],
   "source": [
    "from ase.io import read, write\n",
    "import ase\n",
    "import json\n",
    "from tqdm.notebook import tqdm\n",
    "class tqdm_reusable:\n",
    "    def __init__(self, *args, **kwargs):\n",
    "        self._args = args\n",
    "        self._kwargs = kwargs\n",
    "\n",
    "    def __iter__(self):\n",
    "        return tqdm(*self._args, **self._kwargs).__iter__()\n",
    "    \n",
    "from copy import deepcopy\n",
    "import numpy as np\n",
    "import matplotlib.pyplot as plt\n",
    "\n",
    "from rascal.representations import SphericalExpansion, SphericalInvariants\n",
    "from rascal.utils import (get_radial_basis_covariance, get_radial_basis_pca, \n",
    "                          get_radial_basis_projections, get_optimal_radial_basis_hypers )\n",
    "from rascal.utils import radial_basis\n",
    "from rascal.utils import WignerDReal, ClebschGordanReal, spherical_expansion_reshape, lm_slice, real2complex_matrix, compute_lambda_soap"
   ]
  },
  {
   "cell_type": "code",
   "execution_count": 3,
   "metadata": {},
   "outputs": [],
   "source": [
    "# a library of utilities and wrapper to compute pair features and manipulate a Hamiltonian-like target\n",
    "from ncnice import * "
   ]
  },
  {
   "cell_type": "markdown",
   "metadata": {},
   "source": [
    "# Check Bispectrum"
   ]
  },
  {
   "cell_type": "code",
   "execution_count": 4,
   "metadata": {},
   "outputs": [],
   "source": [
    "from ncnice.representations import compute_rho3i_lambda"
   ]
  },
  {
   "cell_type": "code",
   "execution_count": 5,
   "metadata": {},
   "outputs": [],
   "source": [
    "spherical_expansion_hypers = {\n",
    "    \"interaction_cutoff\": 4,\n",
    "    \"max_radial\": 8,\n",
    "    \"max_angular\": 6,\n",
    "    \"gaussian_sigma_constant\": 0.3,\n",
    "    \"gaussian_sigma_type\": \"Constant\",\n",
    "    \"cutoff_smooth_width\": 0.5,\n",
    "    \"radial_basis\": \"GTO\",\n",
    "}\n",
    "\n",
    "spex = SphericalExpansion(**spherical_expansion_hypers)\n",
    "mycg = ClebschGordanReal(spherical_expansion_hypers[\"max_angular\"])"
   ]
  },
  {
   "cell_type": "code",
   "execution_count": 6,
   "metadata": {},
   "outputs": [],
   "source": [
    "frames = read('data/ethanol-structures.xyz', ':')\n",
    "# frames = read('water/water_randomized_1000.xyz', ':')\n",
    "# for f in frames:\n",
    "#     f.cell=[100,100,100]\n",
    "#     f.positions+=50\n",
    "#     # use same specie for all atoms so we get a single projection matrix\n",
    "#     f.numbers = f.numbers*0+1    \n",
    "\n",
    "# spherical_expansion_hypers = get_optimal_radial_basis_hypers(spherical_expansion_hypers, frames, expanded_max_radial=12)\n",
    "\n",
    "\n",
    "# # ... and we replicate it \n",
    "# pm = spherical_expansion_hypers['optimization']['RadialDimReduction']['projection_matrices'][1] \n",
    "# spherical_expansion_hypers['optimization']['RadialDimReduction']['projection_matrices'] = { i: pm for i in range(1000) }\n",
    "spex = SphericalExpansion(**spherical_expansion_hypers)"
   ]
  },
  {
   "cell_type": "code",
   "execution_count": 7,
   "metadata": {},
   "outputs": [],
   "source": [
    "frames = read('data/ethanol-structures.xyz', ':')\n",
    "# frames = read('/water_randomized_1000.xyz', ':')\n",
    "for f in frames:\n",
    "    f.cell=[100,100,100]\n",
    "    f.positions+=50\n",
    "rhoi = compute_rhoi(frames[:1], spex, spherical_expansion_hypers)*1e0"
   ]
  },
  {
   "cell_type": "code",
   "execution_count": 8,
   "metadata": {},
   "outputs": [],
   "source": [
    "rho2i_l, prho2i_l = compute_all_rho2i_lambda(rhoi, mycg, rho2i_pca=None)"
   ]
  },
  {
   "cell_type": "code",
   "execution_count": 9,
   "metadata": {},
   "outputs": [],
   "source": [
    "rho3ilambda, prho3 = compute_rho3i_lambda(rho2i_l,rhoi, 0, mycg, prho2i_l)"
   ]
  },
  {
   "cell_type": "code",
   "execution_count": 10,
   "metadata": {},
   "outputs": [],
   "source": [
    "#MANUAL computation of bispectrum from librascal/nice_demo.ipynb\n",
    "\n",
    "selframe = frames[:1];         # frame used for the test\n",
    "feat_scaling = 1e0         \n",
    "feats = spex.transform(selframe).get_features(spex)\n",
    "ref_feats = feat_scaling*spherical_expansion_reshape(feats, **spherical_expansion_hypers)\n",
    "\n",
    "nice2_full = mycg.combine_nice(ref_feats, ref_feats)\n",
    "bisp_nice = np.zeros(ref_feats.shape[:3] + (spherical_expansion_hypers[\"max_angular\"]+1,) +\n",
    "                         ref_feats.shape[1:3] + (spherical_expansion_hypers[\"max_angular\"]+1,) +\n",
    "                         ref_feats.shape[1:3] + (spherical_expansion_hypers[\"max_angular\"]+1,) )\n",
    "for l in range(spherical_expansion_hypers[\"max_angular\"]+1):\n",
    "    # while we are at it, we also reorder the indices in a bispectrum-like way\n",
    "    bisp_nice[...,l] = mycg.combine_einsum(nice2_full[...,lm_slice(l)], \n",
    "                                         ref_feats[...,lm_slice(l)], \n",
    "                                         L=0, \n",
    "                                         combination_string=\"ianANlL,ibp->ianlANLbp\" )[...,0]"
   ]
  },
  {
   "cell_type": "code",
   "execution_count": 11,
   "metadata": {},
   "outputs": [
    {
     "data": {
      "text/plain": [
       "array([[ 3.53478718e-07,  0.00000000e+00,  0.00000000e+00,\n",
       "         0.00000000e+00,  0.00000000e+00,  0.00000000e+00,\n",
       "         0.00000000e+00],\n",
       "       [ 0.00000000e+00, -1.71389200e-07,  0.00000000e+00,\n",
       "         0.00000000e+00,  0.00000000e+00,  0.00000000e+00,\n",
       "         0.00000000e+00],\n",
       "       [ 0.00000000e+00,  0.00000000e+00,  1.40871215e-07,\n",
       "         0.00000000e+00,  0.00000000e+00,  0.00000000e+00,\n",
       "         0.00000000e+00],\n",
       "       [ 0.00000000e+00,  0.00000000e+00,  0.00000000e+00,\n",
       "        -2.04372720e-07,  0.00000000e+00,  0.00000000e+00,\n",
       "         0.00000000e+00],\n",
       "       [ 0.00000000e+00,  0.00000000e+00,  0.00000000e+00,\n",
       "         0.00000000e+00,  8.28421227e-08,  0.00000000e+00,\n",
       "         0.00000000e+00],\n",
       "       [ 0.00000000e+00,  0.00000000e+00,  0.00000000e+00,\n",
       "         0.00000000e+00,  0.00000000e+00, -2.14357119e-08,\n",
       "         0.00000000e+00],\n",
       "       [ 0.00000000e+00,  0.00000000e+00,  0.00000000e+00,\n",
       "         0.00000000e+00,  0.00000000e+00,  0.00000000e+00,\n",
       "         1.46689408e-08]])"
      ]
     },
     "execution_count": 11,
     "metadata": {},
     "output_type": "execute_result"
    }
   ],
   "source": [
    "bisp_nice[0,0,1,:,0,2,:,0,2,0]"
   ]
  },
  {
   "cell_type": "code",
   "execution_count": 12,
   "metadata": {},
   "outputs": [
    {
     "data": {
      "text/plain": [
       "array([ 3.53478718e-07, -1.71389200e-07,  1.40871215e-07, -2.04372720e-07,\n",
       "        8.28421227e-08, -2.14357119e-08,  1.46689408e-08,  1.70524787e-24,\n",
       "       -2.16170216e-09,  2.02957006e-09, -3.64477175e-10, -8.47299546e-08,\n",
       "        1.00206736e-09,  7.10603360e-08, -1.63934345e-11, -1.10189128e-08,\n",
       "       -2.26245530e-10,  4.37147981e-09, -2.16170216e-09,  8.52245753e-08,\n",
       "        1.45952169e-08, -3.64477175e-10, -1.46168020e-08, -2.53861596e-08,\n",
       "        1.00206736e-09,  9.30308771e-09,  1.35549074e-10, -1.63934345e-11,\n",
       "        1.39403377e-08, -2.26245530e-10,  8.52245753e-08,  1.45952169e-08,\n",
       "        5.63762664e-11,  2.91102939e-08, -1.46168020e-08, -2.53861596e-08,\n",
       "       -5.54465397e-09,  9.30308771e-09,  1.35549074e-10,  1.39403377e-08,\n",
       "        1.45952169e-08,  5.63762664e-11,  2.91102939e-08, -2.53861596e-08,\n",
       "       -5.54465397e-09,  1.35549074e-10,  5.63762664e-11,  2.91102939e-08,\n",
       "       -5.54465397e-09,  2.91102939e-08])"
      ]
     },
     "execution_count": 12,
     "metadata": {},
     "output_type": "execute_result"
    }
   ],
   "source": [
    "rho3ilambda[0,0,1,0,2,0,2,:,0]"
   ]
  },
  {
   "cell_type": "markdown",
   "metadata": {},
   "source": [
    "they are the **same** modulo noise. because we dont account for sorting l's in the manual computation and the storage format is inefficient, the shapes of the matrices are different"
   ]
  },
  {
   "cell_type": "markdown",
   "metadata": {},
   "source": [
    "# rho2iP"
   ]
  },
  {
   "cell_type": "code",
   "execution_count": 9,
   "metadata": {},
   "outputs": [],
   "source": [
    "def compute_rho1ijp_species(rho1ijp, frame, cg): \n",
    "    \"\"\"groups neighbors j by species\"\"\"\n",
    "    species = frame.numbers\n",
    "    nspecies = len(set(species))\n",
    "    shape = rho1ijp.shape[:2]+(nspecies,) +rho1ijp.shape[2:]\n",
    "    rho1ijp_spec = np.zeros(shape)\n",
    "    \n",
    "    for ispe, spe in enumerate(sorted(set(species))):\n",
    "        idx_spe = np.where(species==spe)[0]\n",
    "#         print(spe, idx_spe)\n",
    "        for j in range(rho1ijp.shape[1]):\n",
    "            if j in idx_spe:\n",
    "                rho1ijp_spec[:,j,ispe, ...]= rho1ijp[:,j,...]\n",
    "    return rho1ijp_spec"
   ]
  },
  {
   "cell_type": "code",
   "execution_count": 10,
   "metadata": {},
   "outputs": [],
   "source": [
    "hypers_ij = deepcopy(spherical_expansion_hypers)\n",
    "hypers_ij[\"expansion_by_species_method\"] = \"structure wise\"\n",
    "spex_ij = SphericalExpansion(**hypers_ij)\n",
    "\n",
    "frame = frames[0]\n",
    "fgij = compute_gij(frame, spex_ij, hypers_ij)\n",
    "rhoi = compute_rhoi(frame, spex, spherical_expansion_hypers)\n",
    "rho1ijp, prhoijp = compute_rho1ijp_lambda(rhoi, fgij,0, mycg)\n",
    "rho1ij, prhoij = compute_rho1ij_lambda(rhoi, fgij,0, mycg)"
   ]
  },
  {
   "cell_type": "code",
   "execution_count": 11,
   "metadata": {},
   "outputs": [],
   "source": [
    "rho1ijp_l, prho1ijp_l = compute_all_rho1ijp_lambda(rhoi, fgij, mycg)"
   ]
  },
  {
   "cell_type": "code",
   "execution_count": 17,
   "metadata": {},
   "outputs": [],
   "source": [
    "def compute_rho1ip_lambda(rhoi, rho1ijp_l, fgij, frame, L, cg, prho1ijp_l):\n",
    "    \"\"\"compute combined rhoi and rhoi-MP\"\"\"\n",
    "    rho1ijp_spec = {}\n",
    "    prhoijp_spec = {}\n",
    "    rho1ip_lambda = {}\n",
    "    lmax = int(np.sqrt(rhoi.shape[-1])) -1\n",
    "    for l in range(lmax+1):\n",
    "        rho1ijp_spec[l] = compute_rho1ijp_species(rho1ijp_l[l], frame, cg)\n",
    "        rho1ip_lambda[l] = np.sum(rho1ijp_spec[l], axis=1)  # MP - atom density \n",
    "    \n",
    "    # do the usual gig of angular coupling \n",
    "    nl=0\n",
    "    for l1 in range(lmax+1):\n",
    "        for l2 in range(lmax+1):\n",
    "            if abs(l2 - l1) > L or l2 + l1 < L:\n",
    "                continue\n",
    "            nl += 1*rho1ip_lambda[l2].shape[4]\n",
    "# multiplication above to account for (l1,l2,l3) combinations. rho1ip_lambda[L].shape[4] accounts for l1,l2\n",
    "#  combinations of g(rij) and rhoj\n",
    "    shape = rhoi.shape[:3] + rho1ip_lambda[L].shape[1:4] +(nl, 2*L+1,)\n",
    "    rho_combined_lam = np.zeros(shape)\n",
    "    prho_combined_lam = np.ones(nl, dtype = int)*(1-2*(L%2))\n",
    "    \n",
    "    il=0\n",
    "    for l1 in range(lmax+1):\n",
    "        for l2 in range(lmax+1):\n",
    "            if abs(l2 - l1) > L or l2 + l1 < L:\n",
    "                continue\n",
    "            rho_combined_lam[...,il:il+rho1ip_lambda[l2].shape[4],:] = cg.combine_einsum(rhoi[...,lm_slice(l1)], rho1ip_lambda[l2],\n",
    "                                            L, combination_string=\"ian,ibNMl->ianbNMl\")\n",
    "\n",
    "            prho_combined_lam[il:il+rho1ip_lambda[l2].shape[4]] = (1-2*(l1%2)) * prho1ijp_l[l2]\n",
    "            il+=rho1ip_lambda[l2].shape[4]\n",
    "\n",
    "    return rho_combined_lam, prho_combined_lam"
   ]
  },
  {
   "cell_type": "code",
   "execution_count": 22,
   "metadata": {},
   "outputs": [],
   "source": [
    "rho_combined_lam, prho_combined_lam = compute_rho1ip_lambda(rhoi, rho1ijp_l, fgij, frame, 1, mycg, prho1ijp_l)"
   ]
  },
  {
   "cell_type": "code",
   "execution_count": 23,
   "metadata": {},
   "outputs": [
    {
     "data": {
      "text/plain": [
       "(9, 3, 8, 3, 24, 8, 483, 3)"
      ]
     },
     "execution_count": 23,
     "metadata": {},
     "output_type": "execute_result"
    }
   ],
   "source": [
    "rho_combined_lam.shape"
   ]
  },
  {
   "cell_type": "code",
   "execution_count": null,
   "metadata": {},
   "outputs": [],
   "source": []
  },
  {
   "cell_type": "code",
   "execution_count": null,
   "metadata": {},
   "outputs": [],
   "source": []
  },
  {
   "cell_type": "code",
   "execution_count": null,
   "metadata": {},
   "outputs": [],
   "source": []
  },
  {
   "cell_type": "markdown",
   "metadata": {
    "heading_collapsed": true
   },
   "source": [
    "# Compute bispectrum as sum over rho2ij lambda - NOT RIGHT"
   ]
  },
  {
   "cell_type": "code",
   "execution_count": null,
   "metadata": {
    "hidden": true
   },
   "outputs": [],
   "source": [
    "hypers_ij = deepcopy(spherical_expansion_hypers)\n",
    "# hypers_ij[\"expansion_by_species_method\"] = \"structure wise\"\n",
    "spex_ij = SphericalExpansion(**hypers_ij)\n",
    "scale=1e3\n",
    "for f in frames[:1]:\n",
    "    fgij = compute_gij(f, spex_ij, hypers_ij)\n",
    "    rhoi = compute_rhoi(f, spex, spherical_expansion_hypers)\n",
    "    rho2i_l, prho2i_l = compute_all_rho2i_lambda(rhoi, mycg, rho2i_pca=None)\n",
    "    rho2ij, prho2ij = compute_rho2ij_lambda(rho2i_l, fgij, 0, mycg, prho2i_l)\n",
    "    "
   ]
  },
  {
   "cell_type": "code",
   "execution_count": null,
   "metadata": {
    "hidden": true
   },
   "outputs": [],
   "source": [
    "shape = (rho2ij.shape[0],\n",
    "         rhoi.shape[1],rho2ij.shape[2], \n",
    "         rho2ij.shape[3], rho2ij.shape[4], \n",
    "         rho2ij.shape[5], rho2ij.shape[6],\n",
    "         rho2ij.shape[7], rho2ij.shape[8]\n",
    "        )\n",
    "bisp_gij = np.zeros(shape)\n",
    "# parity = np.ones(nl, dtype = int)*(1-2*(L%2))"
   ]
  },
  {
   "cell_type": "code",
   "execution_count": null,
   "metadata": {
    "hidden": true
   },
   "outputs": [],
   "source": [
    "rho2ij.shape"
   ]
  },
  {
   "cell_type": "code",
   "execution_count": null,
   "metadata": {
    "hidden": true
   },
   "outputs": [],
   "source": [
    "for f in frames[:1]:\n",
    "    fgij = compute_gij(f, spex_ij, hypers_ij)\n",
    "    rhoi = compute_rhoi(f, spex, spherical_expansion_hypers)\n",
    "    rho2i_l, prho2i_l = compute_all_rho2i_lambda(rhoi, mycg, rho2i_pca=None)\n",
    "    rho2ij, prho2ij = compute_rho2ij_lambda(rho2i_l, fgij, 0, mycg, prho2i_l)\n",
    "    shape = (rho2ij.shape[0],\n",
    "         rhoi.shape[1],rho2ij.shape[2], \n",
    "         rho2ij.shape[3], rho2ij.shape[4], \n",
    "         rho2ij.shape[5], rho2ij.shape[6],\n",
    "         rho2ij.shape[7], rho2ij.shape[8]\n",
    "        )\n",
    "    bisp_gij = np.zeros(shape)\n",
    "#     parity = np.ones(nl, dtype = int)*(1-2*(L%2))\n",
    "    species = f.numbers\n",
    "    nspecies = rhoi.shape[1]\n",
    "    for ispe, spe in enumerate(set(species)):\n",
    "        idx_spe = np.where(species==spe)[0]\n",
    "        print(spe, idx_spe)\n",
    "        bisp_gij[:,ispe, ...]= np.sum(rho2ij[:,idx_spe,...],axis =1)"
   ]
  },
  {
   "cell_type": "code",
   "execution_count": null,
   "metadata": {
    "hidden": true
   },
   "outputs": [],
   "source": [
    "bisp_gij.shape"
   ]
  },
  {
   "cell_type": "code",
   "execution_count": null,
   "metadata": {
    "hidden": true
   },
   "outputs": [],
   "source": [
    "bisp_gij[0,0,1,0,2,0,2,:,0][np.where(bisp_gij[0,0,1,0,2,0,2,:,0])]"
   ]
  },
  {
   "cell_type": "code",
   "execution_count": null,
   "metadata": {
    "hidden": true
   },
   "outputs": [],
   "source": [
    "rho3ilambda[0,0,1,0,2,0,2,:,0][np.where(rho3ilambda[0,0,1,0,2,0,2,:,0])]"
   ]
  },
  {
   "cell_type": "code",
   "execution_count": null,
   "metadata": {
    "hidden": true
   },
   "outputs": [],
   "source": [
    "rho3ilambda[0][np.where(rho3ilambda[0])]"
   ]
  },
  {
   "cell_type": "code",
   "execution_count": null,
   "metadata": {
    "hidden": true
   },
   "outputs": [],
   "source": [
    "bisp_gij[0][np.where(bisp_gij[0])]*2.14dd"
   ]
  },
  {
   "cell_type": "code",
   "execution_count": null,
   "metadata": {
    "hidden": true
   },
   "outputs": [],
   "source": [
    "bisp_gij.shape"
   ]
  },
  {
   "cell_type": "code",
   "execution_count": null,
   "metadata": {
    "hidden": true
   },
   "outputs": [],
   "source": []
  },
  {
   "cell_type": "code",
   "execution_count": null,
   "metadata": {
    "hidden": true
   },
   "outputs": [],
   "source": [
    "def compute_mp(frames,hypers, lmax, nui, nuj, cg, rhoi_pca=None, rhoij_rho2i_pca=None,rho2i_pca=None, scale=1):\n",
    "    spex = SphericalExpansion(**hypers)\n",
    "    rhoi = compute_rhoi(frames, spex, hypers)\n",
    "\n",
    "    # compresses further the spherical expansion features across species\n",
    "    if rhoi_pca is not None:\n",
    "        rhoi = apply_rhoi_pca(rhoi, rhoi_pca)\n",
    "\n",
    "    # makes sure that the spex used for the pair terms uses adaptive species\n",
    "    hypers_ij = deepcopy(hypers)\n",
    "    hypers_ij[\"expansion_by_species_method\"] = \"structure wise\"\n",
    "    spex_ij = SphericalExpansion(**hypers_ij)\n",
    "\n",
    "    tnat = 0\n",
    "    els = list(orbs.keys())\n",
    "    nel = len(els)\n",
    "    # prepare storage\n",
    "#     elL = list(itertools.product(els,range(lmax+1),[-1,1]))\n",
    "#     hetL = [ (els[i1], els[i2], L, pi) for i1 in range(nel) for i2 in range((i1+1 if half_hete else 0), nel) for L in range(lmax+1) for pi in [-1,1] ]\n",
    "#     feats = dict(diag = { L: [] for L in elL },\n",
    "#                  offd_p = { L: [] for L in elL },\n",
    "#                  offd_m = { L: [] for L in elL },\n",
    "#                  hete =   { L: [] for L in hetL },)\n",
    "\n",
    "    if rhoij_rho2i_pca is None and rho2i_pca is not None:\n",
    "        rhoij_rho2i_pca = rho2i_pca\n",
    "\n",
    "    #before = tracemalloc.take_snapshot()\n",
    "    for f in frames:\n",
    "        fnat = len(f.numbers)\n",
    "        frhoi = rhoi[tnat:tnat+fnat]*scale\n",
    "        fgij = compute_gij(f, spex_ij, hypers_ij)*scale\n",
    "        for L in range(lmax+1):\n",
    "            if nu==0:\n",
    "                lrhonui, lprhonui = np.ones((fnat, 1, 2*L+1)), np.ones((1))\n",
    "            elif nui==1 or nuj==1:\n",
    "                lrhonui, lprhonui = compute_rho1i_lambda(frhoi, L, cg)\n",
    "        \n",
    "        rho_mp = \n",
    "        "
   ]
  },
  {
   "cell_type": "code",
   "execution_count": null,
   "metadata": {
    "hidden": true
   },
   "outputs": [],
   "source": [
    "frames,hypers, lmax, nui, nuj, cg = frames, spherical_expansion_hypers, 2, 1, 1, mycg\n",
    "rhoi_pca=None\n",
    "rhoij_rho2i_pca=None\n",
    "rho2i_pca=None\n",
    "scale=1\n",
    "tnat = 0\n",
    "hypers_ij = deepcopy(hypers)\n",
    "hypers_ij[\"expansion_by_species_method\"] = \"structure wise\"\n",
    "spex_ij = SphericalExpansion(**hypers_ij)\n",
    "rhoi = compute_rhoi(frames[:1], spex, hypers)\n",
    "# els = list(orbs.keys())\n",
    "# nel = len(els)\n",
    "for f in frames[:1]:\n",
    "    fnat = len(f.numbers)\n",
    "    frhoi = rhoi[tnat:tnat+fnat]*scale\n",
    "    rhonui, prhonui = frhoi, None\n",
    "    fgij = compute_gij(f, spex_ij, hypers_ij)*scale\n",
    "    for L in range(lmax+1):\n",
    "        #lrho0i, lprho0i = np.ones((fnat, 1, 2*L+1)), np.ones((1))\n",
    "        lrho1i, lprho1i = compute_rho1i_lambda(frhoi, L, cg)\n",
    "        \n",
    "        lrho0ij, prho0ij = compute_rho0ij_lambda(rhonui, fgij, L, cg, prhonui)\n",
    "        "
   ]
  },
  {
   "cell_type": "code",
   "execution_count": null,
   "metadata": {
    "hidden": true
   },
   "outputs": [],
   "source": [
    "np.where(rhonui[:,0,:, lm_slice(2)]-lrho1i)"
   ]
  },
  {
   "cell_type": "code",
   "execution_count": null,
   "metadata": {
    "hidden": true
   },
   "outputs": [],
   "source": [
    "lrho0ij"
   ]
  },
  {
   "cell_type": "code",
   "execution_count": null,
   "metadata": {
    "hidden": true
   },
   "outputs": [],
   "source": [
    "?compute_rho0ij_lambda"
   ]
  },
  {
   "cell_type": "code",
   "execution_count": null,
   "metadata": {
    "hidden": true
   },
   "outputs": [],
   "source": [
    "def compute_rho0ij_lambda(rhoi, gij, L, cg,  prfeats = None): # prfeats is (in analogy with rho2ijlambda) the parity, but is not really necessary)\n",
    "    \"\"\" computes |rho^0_{ij}; lm> \"\"\"\n",
    "    rho0ij = gij[..., lm_slice(L)].reshape((gij.shape[0], gij.shape[1], -1, 2*L+1))\n",
    "    return rho0ij, np.ones(rho0ij.shape[2])\n",
    "\n",
    "def compute_rho1ij_lambda(rhoj, gij, L, cg, prfeats = None): \n",
    "    \"\"\" computes |rho^1_{ij}; lm> \"\"\"\n",
    "\n",
    "    lmax = int(np.sqrt(gij.shape[-1])) -1\n",
    "    # can't work out analytically how many terms we have, so we precompute it here\n",
    "    nl = 0\n",
    "    for l1 in range(lmax + 1):\n",
    "        for l2 in range(lmax + 1):  # |rho_i> and |rho_ij; g> are not symmetric so we need all l2\n",
    "            if abs(l2 - l1) > L or l2 + l1 < L:\n",
    "                continue\n",
    "            nl += 1\n",
    "\n",
    "    rhoj = rhoj.reshape((rhoj.shape[0], -1, rhoj.shape[-1]))\n",
    "    # natom, natom, nel*nmax, nmax, lmax+1, lmax+1, M\n",
    "    shape = (rhoj.shape[0], rhoj.shape[0],\n",
    "             rhoj.shape[1] , gij.shape[2], nl, 2*L+1)\n",
    "    rho1jilambda = np.zeros(shape)\n",
    "    parity = np.ones(nl, dtype = int)*(1-2*(L%2))\n",
    "\n",
    "    il = 0\n",
    "    for l1 in range(lmax+1):\n",
    "        for l2 in range(lmax+1):\n",
    "            if abs(l2 - l1) > L or l2 + l1 < L:\n",
    "                continue\n",
    "            rho1jilambda[:,:,:,:,il] = cg.combine_einsum(rhoj[...,lm_slice(l1)], gij[...,lm_slice(l2)],\n",
    "                                                L, combination_string=\"in,ijN->ijnN\")\n",
    "            parity[il] *= (1-2*(l1%2)) * (1-2*(l2%2))\n",
    "            il+=1\n",
    "\n",
    "    return rho1jilambda, parity"
   ]
  },
  {
   "cell_type": "code",
   "execution_count": null,
   "metadata": {
    "hidden": true
   },
   "outputs": [],
   "source": [
    "spex = SphericalExpansion(**hypers)\n",
    "rhoi = compute_rhoi(frames, spex, hypers)\n",
    "hypers_ij = deepcopy(hypers)\n",
    "hypers_ij[\"expansion_by_species_method\"] = \"structure wise\"\n",
    "spex_ij = SphericalExpansion(**hypers_ij)"
   ]
  },
  {
   "cell_type": "markdown",
   "metadata": {
    "heading_collapsed": true
   },
   "source": [
    "# Test features and Hamiltonian transformation"
   ]
  },
  {
   "cell_type": "code",
   "execution_count": null,
   "metadata": {
    "hidden": true
   },
   "outputs": [],
   "source": [
    "import re\n",
    "from ase.data import atomic_numbers\n",
    "import json\n",
    "class NpEncoder(json.JSONEncoder):\n",
    "    def default(self, obj):\n",
    "        if isinstance(obj, np.integer):\n",
    "            return int(obj)\n",
    "        elif isinstance(obj, np.floating):\n",
    "            return float(obj)\n",
    "        elif isinstance(obj, np.ndarray):\n",
    "            return obj.tolist()\n",
    "        else:\n",
    "            return super(NpEncoder, self).default(obj)\n"
   ]
  },
  {
   "cell_type": "code",
   "execution_count": null,
   "metadata": {
    "hidden": true
   },
   "outputs": [],
   "source": [
    "# frames = read('qm7/qm7b-chno.xyz', ':100')\n",
    "# fock = np.load('qm7/qm7-chno-fock.npy', allow_pickle=True)\n",
    "frames = read('water_random/water_randomized_1000.xyz',':')\n",
    "for f in frames:\n",
    "    f.pbc=False\n",
    "    \n",
    "focks = np.load('water/water-fock.npy', allow_pickle=True)\n",
    "orbs = json.loads(json.load(open('water/orbs.json', \"r\")))"
   ]
  },
  {
   "cell_type": "markdown",
   "metadata": {
    "hidden": true
   },
   "source": [
    "we have to fix the L=1 terms that are stored in a weird order. we do this as post-processing \n",
    "and one should undo the change if the matrix is to be read back into pyscf"
   ]
  },
  {
   "cell_type": "code",
   "execution_count": null,
   "metadata": {
    "hidden": true
   },
   "outputs": [],
   "source": [
    "for i in range(len(focks)):\n",
    "    focks[i] = pyscf_fix_l1(focks[i], frames[i], orbs)"
   ]
  },
  {
   "cell_type": "markdown",
   "metadata": {
    "heading_collapsed": true,
    "hidden": true
   },
   "source": [
    "## Rotational behavior of features"
   ]
  },
  {
   "cell_type": "code",
   "execution_count": null,
   "metadata": {
    "hidden": true
   },
   "outputs": [],
   "source": [
    "\n",
    "from rascal.representations import SphericalExpansion, SphericalInvariants\n",
    "from rascal.utils import (get_radial_basis_covariance, get_radial_basis_pca, \n",
    "                          get_radial_basis_projections, get_optimal_radial_basis_hypers )\n",
    "from rascal.utils import radial_basis\n",
    "from rascal.utils import (WignerDReal, ClebschGordanReal, \n",
    "                          spherical_expansion_reshape,\n",
    "                          lm_slice, real2complex_matrix, xyz_to_spherical, spherical_to_xyz)\n",
    "from rascal.utils.cg_utils import _r2c as r2c\n",
    "from rascal.utils.cg_utils import _c2r as c2r\n",
    "from rascal.utils.cg_utils import _cg as clebsch_gordan\n",
    "from rascal.utils.cg_utils import _rotation as rotation\n",
    "from rascal.utils.cg_utils import _wigner_d as wigner_d"
   ]
  },
  {
   "cell_type": "markdown",
   "metadata": {
    "hidden": true
   },
   "source": [
    "### Rotation of features"
   ]
  },
  {
   "cell_type": "code",
   "execution_count": null,
   "metadata": {
    "hidden": true,
    "scrolled": true
   },
   "outputs": [],
   "source": [
    "frame = frames[90]\n",
    "frame.cell = [100,100,100]\n",
    "frame.positions += 50\n",
    "rotframe = frame.copy()\n",
    "rotframe.positions = rotframe.positions @ mrot.T\n",
    "rotframe.cell = rotframe.cell @ mrot.T   # rotate also the cell\n",
    "\n",
    "feats = spex.transform(frame).get_features(spex)\n",
    "feats *= 1e6\n",
    "rfeats = spherical_expansion_reshape(feats, **spherical_expansion_hypers)\n",
    "\n",
    "g= get_gij_fast(frame, spex,spherical_expansion_hypers)"
   ]
  },
  {
   "cell_type": "code",
   "execution_count": null,
   "metadata": {
    "hidden": true
   },
   "outputs": [],
   "source": [
    "rotfeats = spex.transform(rotframe).get_features(spex)\n",
    "rotfeats *= 1e6\n",
    "rotfeats = spherical_expansion_reshape(rotfeats, **spherical_expansion_hypers)\n",
    "\n",
    "rotg = get_gij_fast(rotframe, spex,spherical_expansion_hypers)"
   ]
  },
  {
   "cell_type": "markdown",
   "metadata": {
    "hidden": true
   },
   "source": [
    "Check rotation of $| \\overline{\\rho_{ij}^0; \\lambda \\mu} \\rangle \\equiv \\langle n | g; \\lambda \\mu\\rangle $"
   ]
  },
  {
   "cell_type": "code",
   "execution_count": null,
   "metadata": {
    "hidden": true
   },
   "outputs": [],
   "source": [
    "np.linalg.norm(WD.rotate(mk_rho0ijlambda_fast(g, 4, mycg)) - mk_rho0ijlambda_fast(rotg, 4, mycg))/np.linalg.norm(mk_rho0ijlambda_fast(g, 4, mycg))"
   ]
  },
  {
   "cell_type": "markdown",
   "metadata": {
    "hidden": true
   },
   "source": [
    "Check rotation of $| \\overline{\\rho_{i}^1; \\lambda \\mu} \\rangle $"
   ]
  },
  {
   "cell_type": "code",
   "execution_count": null,
   "metadata": {
    "hidden": true
   },
   "outputs": [],
   "source": [
    "(np.linalg.norm(WD.rotate(rfeats[...,lm_slice(3)]) - rotfeats[...,lm_slice(3)]))/np.linalg.norm(rfeats[...,lm_slice(3)])"
   ]
  },
  {
   "cell_type": "markdown",
   "metadata": {
    "hidden": true
   },
   "source": [
    "Check $| \\overline{\\rho_{i}^2; \\lambda \\mu} \\rangle $"
   ]
  },
  {
   "cell_type": "code",
   "execution_count": null,
   "metadata": {
    "hidden": true
   },
   "outputs": [],
   "source": [
    "lsoap=mk_rho2ilambda_fast(rfeats, 1, mycg)"
   ]
  },
  {
   "cell_type": "code",
   "execution_count": null,
   "metadata": {
    "hidden": true
   },
   "outputs": [],
   "source": [
    "rotlsoap =  mk_rho2ilambda_fast(rotfeats, 1, mycg)\n",
    "np.linalg.norm(WD.rotate(lsoap) -rotlsoap)/np.linalg.norm(lsoap)"
   ]
  },
  {
   "cell_type": "markdown",
   "metadata": {
    "hidden": true
   },
   "source": [
    "Check rotation of $| \\overline{\\rho_{ij}^1; 00} \\rangle $"
   ]
  },
  {
   "cell_type": "code",
   "execution_count": null,
   "metadata": {
    "hidden": true
   },
   "outputs": [],
   "source": [
    "rhoij = mk_rho1ij_fast(rfeats, g, mycg)\n",
    "rhoij_rot = mk_rho1ij_fast(rotfeats, rotg, mycg)"
   ]
  },
  {
   "cell_type": "code",
   "execution_count": null,
   "metadata": {
    "hidden": true
   },
   "outputs": [],
   "source": [
    "np.linalg.norm(WD.rotate(rhoij[...,np.newaxis]) - rhoij_rot[...,np.newaxis])/np.linalg.norm(rhoij)"
   ]
  },
  {
   "cell_type": "markdown",
   "metadata": {
    "hidden": true
   },
   "source": [
    "Check rotation of $| \\overline{\\rho_{ij}^1; \\lambda \\mu} \\rangle $"
   ]
  },
  {
   "cell_type": "code",
   "execution_count": null,
   "metadata": {
    "hidden": true
   },
   "outputs": [],
   "source": [
    "rhoijlm= mk_rho1ijlambda_fast(rfeats, g, 3, mycg)\n",
    "rhoijlm_rot = mk_rho1ijlambda_fast(rotfeats, rotg, 3, mycg)\n",
    "np.linalg.norm(WD.rotate(rhoijlm) - rhoijlm_rot)/np.linalg.norm(rhoijlm)"
   ]
  },
  {
   "cell_type": "markdown",
   "metadata": {
    "heading_collapsed": true
   },
   "source": [
    "# Simple regression test"
   ]
  },
  {
   "cell_type": "code",
   "execution_count": null,
   "metadata": {
    "hidden": true
   },
   "outputs": [],
   "source": [
    "iwater = 99\n",
    "fock = np.load('water/water-fock.npy', allow_pickle=True)[iwater]\n",
    "orbs = json.loads(json.load(open(\"water/orbs.json\", \"r\")))"
   ]
  },
  {
   "cell_type": "markdown",
   "metadata": {
    "hidden": true
   },
   "source": [
    "there has to be a model for each (n1,l1,n2,l2,L) entry in the coupled representation of the Fock matrix"
   ]
  },
  {
   "cell_type": "code",
   "execution_count": null,
   "metadata": {
    "hidden": true
   },
   "outputs": [],
   "source": [
    "frame = read('water/water_coords_1000.xyz',':')[iwater]\n",
    "frame.cell = [100,100,100]\n",
    "frame.positions += 50\n",
    "frame.symbols"
   ]
  },
  {
   "cell_type": "code",
   "execution_count": null,
   "metadata": {
    "hidden": true
   },
   "outputs": [],
   "source": [
    "fock = pyscf_fix_l1(fock, frame, orbs)\n",
    "fock_blocks = pyscf_to_blocks(fock, frame, orbs)\n",
    "fock_blocks_c = to_coupled(fock_blocks, mycg)"
   ]
  },
  {
   "cell_type": "code",
   "execution_count": null,
   "metadata": {
    "hidden": true
   },
   "outputs": [],
   "source": [
    "ffeats = do_full_features([frame], orbs, spherical_expansion_hypers, 4, mycg, scale=1e3)"
   ]
  },
  {
   "cell_type": "code",
   "execution_count": null,
   "metadata": {
    "hidden": true
   },
   "outputs": [],
   "source": [
    "FR = FockRegression(orbs, alpha=1e-18, solver='svd')"
   ]
  },
  {
   "cell_type": "code",
   "execution_count": null,
   "metadata": {
    "hidden": true
   },
   "outputs": [],
   "source": [
    "FR.fit(ffeats, fock_blocks_c)"
   ]
  },
  {
   "cell_type": "code",
   "execution_count": null,
   "metadata": {
    "hidden": true
   },
   "outputs": [],
   "source": [
    "fpred = FR.predict(ffeats)"
   ]
  },
  {
   "cell_type": "code",
   "execution_count": null,
   "metadata": {
    "hidden": true
   },
   "outputs": [],
   "source": [
    "fpred['diag'][(2,1,2,1)]"
   ]
  },
  {
   "cell_type": "code",
   "execution_count": null,
   "metadata": {
    "hidden": true
   },
   "outputs": [],
   "source": [
    "fock_blocks_c['diag'][(2,1,2,1)]"
   ]
  },
  {
   "cell_type": "code",
   "execution_count": null,
   "metadata": {
    "hidden": true
   },
   "outputs": [],
   "source": [
    "unfock = blocks_to_pyscf(to_decoupled(fpred, mycg), frame, orbs)"
   ]
  },
  {
   "cell_type": "code",
   "execution_count": null,
   "metadata": {
    "hidden": true
   },
   "outputs": [],
   "source": [
    "plt.matshow((unfock-fock).astype(float))\n",
    "np.linalg.norm(unfock-fock) # bingo!"
   ]
  },
  {
   "cell_type": "code",
   "execution_count": null,
   "metadata": {
    "hidden": true
   },
   "outputs": [],
   "source": [
    "np.mean(np.abs(np.linalg.eigvalsh(fock.astype(float))-np.linalg.eigvalsh(unfock)))"
   ]
  },
  {
   "cell_type": "code",
   "execution_count": null,
   "metadata": {
    "hidden": true
   },
   "outputs": [],
   "source": [
    "plt.plot(np.linalg.eigvalsh(fock.astype(float)), 'b.')\n",
    "plt.plot(np.linalg.eigvalsh(unfock.astype(float)), 'r--')"
   ]
  },
  {
   "cell_type": "markdown",
   "metadata": {
    "hidden": true
   },
   "source": [
    "#### Rotation and permutation "
   ]
  },
  {
   "cell_type": "code",
   "execution_count": null,
   "metadata": {
    "hidden": true
   },
   "outputs": [],
   "source": [
    "iwater = 99\n",
    "frame = read('water/water_coords_1000.xyz',':')[iwater]\n",
    "frame.cell = [100,100,100]\n",
    "frame.positions += 50\n",
    "print(frame.symbols)\n",
    "fock = np.load('water/water-fock.npy', allow_pickle=True)[iwater]\n",
    "orbs = json.loads(json.load(open(\"water/orbs.json\", \"r\")))"
   ]
  },
  {
   "cell_type": "code",
   "execution_count": null,
   "metadata": {
    "hidden": true
   },
   "outputs": [],
   "source": [
    "fock = pyscf_fix_l1(fock, frame, orbs)\n",
    "fock_blocks = pyscf_to_blocks(fock, frame, orbs)\n",
    "fock_blocks_c = to_coupled(fock_blocks, mycg)\n",
    "feats = do_full_features([frame], orbs, spherical_expansion_hypers, 4, mycg, scale=1e3)"
   ]
  },
  {
   "cell_type": "code",
   "execution_count": null,
   "metadata": {
    "hidden": true
   },
   "outputs": [],
   "source": [
    "FR = FockRegression(orbs, alpha=1e-18, solver='svd')\n",
    "FR.fit(feats, fock_blocks_c)\n",
    "fpred = FR.predict(feats)"
   ]
  },
  {
   "cell_type": "code",
   "execution_count": null,
   "metadata": {
    "hidden": true
   },
   "outputs": [],
   "source": [
    "fock_original = blocks_to_pyscf(to_decoupled(fpred, mycg), frame, orbs)"
   ]
  },
  {
   "cell_type": "code",
   "execution_count": null,
   "metadata": {
    "hidden": true
   },
   "outputs": [],
   "source": [
    "frame_rotperm = frame.copy()\n",
    "iperm = np.arange(len(frame.numbers), dtype=int)\n",
    "np.random.shuffle(iperm)\n",
    "frame_rotperm.numbers = frame_rotperm.numbers[iperm]\n",
    "frame_rotperm.positions = frame_rotperm.positions[iperm]\n",
    "print(frame_rotperm.symbols)\n",
    "\n",
    "abc = np.random.uniform(size=(3))*np.pi\n",
    "WD = WignerDReal(spherical_expansion_hypers[\"max_angular\"], *abc)\n",
    "WD.rotate_frame(frame_rotperm)"
   ]
  },
  {
   "cell_type": "code",
   "execution_count": null,
   "metadata": {
    "hidden": true
   },
   "outputs": [],
   "source": [
    "feat_rotperm = do_full_features([frame_rotperm], orbs, spherical_expansion_hypers, 4, mycg, scale=1e3)"
   ]
  },
  {
   "cell_type": "code",
   "execution_count": null,
   "metadata": {
    "hidden": true
   },
   "outputs": [],
   "source": [
    "pred_rotperm = FR.predict(feat_rotperm)"
   ]
  },
  {
   "cell_type": "code",
   "execution_count": null,
   "metadata": {
    "hidden": true
   },
   "outputs": [],
   "source": [
    "fock_rotperm = blocks_to_pyscf(to_decoupled(pred_rotperm, mycg), frame_rotperm, orbs)"
   ]
  },
  {
   "cell_type": "code",
   "execution_count": null,
   "metadata": {
    "hidden": true
   },
   "outputs": [],
   "source": [
    "plt.matshow((fock_rotperm-fock_original).astype(float))\n",
    "np.linalg.norm(fock_rotperm-fock_original) "
   ]
  },
  {
   "cell_type": "code",
   "execution_count": null,
   "metadata": {
    "hidden": true
   },
   "outputs": [],
   "source": [
    "plt.plot(np.linalg.eigvalsh(fock_original.astype(float)), 'b.')\n",
    "plt.plot(np.linalg.eigvalsh(fock_rotperm.astype(float)), 'r--') \n",
    "print(np.mean(np.abs(np.linalg.eigvalsh(fock_original)-np.linalg.eigvalsh(fock_rotperm))))"
   ]
  },
  {
   "cell_type": "code",
   "execution_count": null,
   "metadata": {
    "hidden": true
   },
   "outputs": [],
   "source": []
  }
 ],
 "metadata": {
  "kernelspec": {
   "display_name": "Python 3",
   "language": "python",
   "name": "python3"
  },
  "language_info": {
   "codemirror_mode": {
    "name": "ipython",
    "version": 3
   },
   "file_extension": ".py",
   "mimetype": "text/x-python",
   "name": "python",
   "nbconvert_exporter": "python",
   "pygments_lexer": "ipython3",
   "version": "3.7.3"
  },
  "toc": {
   "base_numbering": 1,
   "nav_menu": {},
   "number_sections": true,
   "sideBar": true,
   "skip_h1_title": false,
   "title_cell": "Table of Contents",
   "title_sidebar": "Contents",
   "toc_cell": false,
   "toc_position": {
    "height": "calc(100% - 180px)",
    "left": "10px",
    "top": "150px",
    "width": "288px"
   },
   "toc_section_display": true,
   "toc_window_display": true
  }
 },
 "nbformat": 4,
 "nbformat_minor": 4
}
